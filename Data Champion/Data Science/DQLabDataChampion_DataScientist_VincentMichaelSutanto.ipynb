{
 "cells": [
  {
   "cell_type": "markdown",
   "metadata": {},
   "source": [
    "# Apakah Voucher dengan Nilai Lebih Tinggi akan Menarik User untuk Bertransaksi Lebih Banyak?\n",
    "\n",
    "### Oleh Vincent Michael Sutanto\n",
    "\n",
    "<p style=\"color:red; line-height: 2\">    <b>PERHATIAN</b> Notebook ini dijalankan dengan kernel R pada Jupyter Notebook (Anaconda)\n",
    "<hr>"
   ]
  },
  {
   "cell_type": "markdown",
   "metadata": {},
   "source": [
    "# 1. Analisis Numerik\n",
    "\n",
    "### Tahapan Analisis Numerik yang Dilakukan:\n",
    "#### 1.1 Buka Dataset dengan R\n",
    "#### 1.2 Melakukan Profiling Data\n",
    "#### 1.3 Mengecek dan Mengganti Data yang Hilang\n",
    "#### 1.4 Cek dan Perbaiki Data yang Duplikat\n",
    "#### 1.5 Informasi Data Bersih\n",
    "#### 1.6 Kesimpulan Analisis\n"
   ]
  },
  {
   "cell_type": "markdown",
   "metadata": {},
   "source": [
    "\n",
    "<p style=\"color:darkred; line-height: 2\">Sebelum dilakukan analisis, dilakukan pengecekan dan pembersihan dataset terlebih dahulu. Dataset yang bersih pada kasus ini ditentukan memenuhi syarat-syarat berikut:\n",
    "<br>1. Profiling data dimana data dalam 1 kolom yang sama harus memiliki pola yang serupa (tidak memiliki outlier)\n",
    "<br>2. Tidak memiliki variabel yang \"hilang\" (dilakukan pemulihan data pada data yang hilang menggunakan pendekatan-pendekatan yang tidak merusak data)\n",
    "<br>3. Tidak ada data transaksi yang duplikat atau berulang (suatu user_id berpasangan dengan suatu merchant_id lebih dari 1x)"
   ]
  },
  {
   "cell_type": "markdown",
   "metadata": {},
   "source": [
    "<hr>\n",
    "\n",
    "### 1.1 Buka Dataset dengan R\n",
    "<p style=\"color:darkred; line-height: 2\">Bagian ini dilakukan untuk membaca dataset dengan R dan mengecek informasi dari dataset sehingga dapat dilakukan pembersihan yang dibutuhkan berdasarkan informasi yang didapat. Sebagai pengingat, berikut informasi tentang dataset yang digunakan:\n",
    "<br>user_id : identifikasi unik untuk tiap user\n",
    "<Br>merchant_id : identifikasi unik untuk tiap penjual \n",
    "<Br>promotion_type : tipe promosi, antara 10K atau 25K \n",
    "<br>three_trx : jika user melakukan 3 transaksi setelah diberikan voucher, kolom ini akan memiliki nilai 1. Jika tidak, nilainya 0\n",
    "<br>five_trx : jika user melakukan 5 transaksi setelah diberikan voucher, kolom ini akan memiliki nilai 1. Jika tidak, nilainya 0\n",
    "<br>    \n"
   ]
  },
  {
   "cell_type": "code",
   "execution_count": 1,
   "metadata": {},
   "outputs": [],
   "source": [
    "raw_data <- read.csv(\"C:\\\\Users\\\\aftermath\\\\Documents\\\\DQLAB Challenge\\\\Data Champion\\\\Data Science\\\\preliminary_dataset.csv\")"
   ]
  },
  {
   "cell_type": "code",
   "execution_count": 2,
   "metadata": {},
   "outputs": [
    {
     "data": {
      "text/html": [
       "<table>\n",
       "<thead><tr><th scope=col>X</th><th scope=col>user_id</th><th scope=col>merchant_id</th><th scope=col>coupon_value</th><th scope=col>three_trx</th><th scope=col>five_trx</th></tr></thead>\n",
       "<tbody>\n",
       "\t<tr><td>0     </td><td>384212</td><td>817754</td><td>25000 </td><td>0     </td><td>0     </td></tr>\n",
       "\t<tr><td>1     </td><td>521382</td><td>571603</td><td>25000 </td><td>0     </td><td>0     </td></tr>\n",
       "\t<tr><td>2     </td><td>492364</td><td>841900</td><td>25000 </td><td>0     </td><td>0     </td></tr>\n",
       "\t<tr><td>3     </td><td>565771</td><td> 74426</td><td>25000 </td><td>0     </td><td>0     </td></tr>\n",
       "\t<tr><td>4     </td><td>636203</td><td>404793</td><td>25000 </td><td>0     </td><td>0     </td></tr>\n",
       "\t<tr><td>5     </td><td>788042</td><td>404793</td><td>25000 </td><td>0     </td><td>0     </td></tr>\n",
       "</tbody>\n",
       "</table>\n"
      ],
      "text/latex": [
       "\\begin{tabular}{r|llllll}\n",
       " X & user\\_id & merchant\\_id & coupon\\_value & three\\_trx & five\\_trx\\\\\n",
       "\\hline\n",
       "\t 0      & 384212 & 817754 & 25000  & 0      & 0     \\\\\n",
       "\t 1      & 521382 & 571603 & 25000  & 0      & 0     \\\\\n",
       "\t 2      & 492364 & 841900 & 25000  & 0      & 0     \\\\\n",
       "\t 3      & 565771 &  74426 & 25000  & 0      & 0     \\\\\n",
       "\t 4      & 636203 & 404793 & 25000  & 0      & 0     \\\\\n",
       "\t 5      & 788042 & 404793 & 25000  & 0      & 0     \\\\\n",
       "\\end{tabular}\n"
      ],
      "text/markdown": [
       "\n",
       "| X | user_id | merchant_id | coupon_value | three_trx | five_trx |\n",
       "|---|---|---|---|---|---|\n",
       "| 0      | 384212 | 817754 | 25000  | 0      | 0      |\n",
       "| 1      | 521382 | 571603 | 25000  | 0      | 0      |\n",
       "| 2      | 492364 | 841900 | 25000  | 0      | 0      |\n",
       "| 3      | 565771 |  74426 | 25000  | 0      | 0      |\n",
       "| 4      | 636203 | 404793 | 25000  | 0      | 0      |\n",
       "| 5      | 788042 | 404793 | 25000  | 0      | 0      |\n",
       "\n"
      ],
      "text/plain": [
       "  X user_id merchant_id coupon_value three_trx five_trx\n",
       "1 0 384212  817754      25000        0         0       \n",
       "2 1 521382  571603      25000        0         0       \n",
       "3 2 492364  841900      25000        0         0       \n",
       "4 3 565771   74426      25000        0         0       \n",
       "5 4 636203  404793      25000        0         0       \n",
       "6 5 788042  404793      25000        0         0       "
      ]
     },
     "metadata": {},
     "output_type": "display_data"
    }
   ],
   "source": [
    "head(raw_data)"
   ]
  },
  {
   "cell_type": "code",
   "execution_count": 3,
   "metadata": {},
   "outputs": [
    {
     "name": "stdout",
     "output_type": "stream",
     "text": [
      "'data.frame':\t8176 obs. of  6 variables:\n",
      " $ X           : Factor w/ 8176 levels \"0\",\"1\",\"10\",\"100\",..: 1 2 1113 2224 3335 4446 5557 6668 7779 8066 ...\n",
      " $ user_id     : int  384212 521382 492364 565771 636203 788042 318404 269330 709364 577125 ...\n",
      " $ merchant_id : int  817754 571603 841900 74426 404793 404793 666703 531400 531400 407034 ...\n",
      " $ coupon_value: int  25000 25000 25000 25000 25000 25000 25000 25000 25000 25000 ...\n",
      " $ three_trx   : int  0 0 0 0 0 0 0 1 0 0 ...\n",
      " $ five_trx    : int  0 0 0 0 0 0 0 0 0 0 ...\n"
     ]
    }
   ],
   "source": [
    "str(raw_data)"
   ]
  },
  {
   "cell_type": "code",
   "execution_count": 4,
   "metadata": {},
   "outputs": [
    {
     "data": {
      "text/plain": [
       "       X           user_id        merchant_id      coupon_value  \n",
       " 0      :   1   Min.   :   110   Min.   :  2940   Min.   :10000  \n",
       " 1      :   1   1st Qu.:248211   1st Qu.:311420   1st Qu.:10000  \n",
       " 10     :   1   Median :500367   Median :404793   Median :25000  \n",
       " 100    :   1   Mean   :499280   Mean   :441295   Mean   :17699  \n",
       " 1000   :   1   3rd Qu.:748553   3rd Qu.:629060   3rd Qu.:25000  \n",
       " 1001   :   1   Max.   :999765   Max.   :970034   Max.   :25000  \n",
       " (Other):8170   NA's   :3        NA's   :3        NA's   :3      \n",
       "   three_trx          five_trx       \n",
       " Min.   :0.00000   Min.   :0.000000  \n",
       " 1st Qu.:0.00000   1st Qu.:0.000000  \n",
       " Median :0.00000   Median :0.000000  \n",
       " Mean   :0.03242   Mean   :0.005261  \n",
       " 3rd Qu.:0.00000   3rd Qu.:0.000000  \n",
       " Max.   :1.00000   Max.   :1.000000  \n",
       " NA's   :3         NA's   :3         "
      ]
     },
     "metadata": {},
     "output_type": "display_data"
    }
   ],
   "source": [
    "summary(raw_data)"
   ]
  },
  {
   "cell_type": "code",
   "execution_count": 5,
   "metadata": {},
   "outputs": [
    {
     "data": {
      "text/html": [
       "<dl class=dl-horizontal>\n",
       "\t<dt>10000</dt>\n",
       "\t\t<dd>3978</dd>\n",
       "\t<dt>25000</dt>\n",
       "\t\t<dd>4195</dd>\n",
       "\t<dt>NA's</dt>\n",
       "\t\t<dd>3</dd>\n",
       "</dl>\n"
      ],
      "text/latex": [
       "\\begin{description*}\n",
       "\\item[10000] 3978\n",
       "\\item[25000] 4195\n",
       "\\item[NA's] 3\n",
       "\\end{description*}\n"
      ],
      "text/markdown": [
       "10000\n",
       ":   397825000\n",
       ":   4195NA's\n",
       ":   3\n",
       "\n"
      ],
      "text/plain": [
       "10000 25000  NA's \n",
       " 3978  4195     3 "
      ]
     },
     "metadata": {},
     "output_type": "display_data"
    }
   ],
   "source": [
    "raw_data$coupon_value <- as.factor(raw_data$coupon_value)\n",
    "summary(raw_data$coupon_value)"
   ]
  },
  {
   "cell_type": "code",
   "execution_count": 6,
   "metadata": {},
   "outputs": [
    {
     "data": {
      "text/html": [
       "<dl class=dl-horizontal>\n",
       "\t<dt>0</dt>\n",
       "\t\t<dd>7908</dd>\n",
       "\t<dt>1</dt>\n",
       "\t\t<dd>265</dd>\n",
       "\t<dt>NA's</dt>\n",
       "\t\t<dd>3</dd>\n",
       "</dl>\n"
      ],
      "text/latex": [
       "\\begin{description*}\n",
       "\\item[0] 7908\n",
       "\\item[1] 265\n",
       "\\item[NA's] 3\n",
       "\\end{description*}\n"
      ],
      "text/markdown": [
       "0\n",
       ":   79081\n",
       ":   265NA's\n",
       ":   3\n",
       "\n"
      ],
      "text/plain": [
       "   0    1 NA's \n",
       "7908  265    3 "
      ]
     },
     "metadata": {},
     "output_type": "display_data"
    }
   ],
   "source": [
    "raw_data$three_trx <- as.factor(raw_data$three_trx)\n",
    "summary(raw_data$three_trx)"
   ]
  },
  {
   "cell_type": "code",
   "execution_count": 7,
   "metadata": {},
   "outputs": [
    {
     "data": {
      "text/html": [
       "<dl class=dl-horizontal>\n",
       "\t<dt>0</dt>\n",
       "\t\t<dd>8130</dd>\n",
       "\t<dt>1</dt>\n",
       "\t\t<dd>43</dd>\n",
       "\t<dt>NA's</dt>\n",
       "\t\t<dd>3</dd>\n",
       "</dl>\n"
      ],
      "text/latex": [
       "\\begin{description*}\n",
       "\\item[0] 8130\n",
       "\\item[1] 43\n",
       "\\item[NA's] 3\n",
       "\\end{description*}\n"
      ],
      "text/markdown": [
       "0\n",
       ":   81301\n",
       ":   43NA's\n",
       ":   3\n",
       "\n"
      ],
      "text/plain": [
       "   0    1 NA's \n",
       "8130   43    3 "
      ]
     },
     "metadata": {},
     "output_type": "display_data"
    }
   ],
   "source": [
    "raw_data$five_trx <- as.factor(raw_data$five_trx)\n",
    "summary(raw_data$five_trx)"
   ]
  },
  {
   "cell_type": "markdown",
   "metadata": {},
   "source": [
    "<p style=\"color:darkred; line-height: 2\">\n",
    "Informasi sementara yang didapat dari tahapan ini adalah:\n",
    "<Br>1. Dataset terdiri dari 8176 data\n",
    "<Br>2. Voucher senilai 10000 dibagikan sebanyak 3978 buah dan voucher senilai 25000 dibagikan sebanyak 4195 buah\n",
    "<Br>3. Hanya 265 kemunculan data yang menunjukan kembalinya suatu user sampai dengan 3x ke suatu merchant dan hanya 43 kemunculan data yang menunjukan kembalinya suatu user ke suatu merchant sebanyak 5x.\n",
    "<Br>4. Terdapat 3 baris data yang memiliki nilai NA.\n",
    "    "
   ]
  },
  {
   "cell_type": "markdown",
   "metadata": {},
   "source": [
    "<hr>\n",
    "\n",
    "### 1.2 Melakukan Profiling Data\n",
    "<p style=\"color:darkred; line-height: 2\">Pada tahapan ini dilakukan pencarian pola tertentu dari setiap kolom data untuk menemukan pola yang mungkin menarik ataupun menemukan <i>outlier</i> dari dataset yang diolah. Pada tahapan Profiling Data digunakan library <i>Basic Pattern Analysis</i> untuk mendapatkan pola dari setiap kolom.\n"
   ]
  },
  {
   "cell_type": "code",
   "execution_count": 8,
   "metadata": {},
   "outputs": [],
   "source": [
    "library(\"bpa\")"
   ]
  },
  {
   "cell_type": "code",
   "execution_count": 9,
   "metadata": {},
   "outputs": [
    {
     "data": {
      "text/plain": [
       "\n",
       "   999   9999  99999 999999 \n",
       "    11     63    740   7359 "
      ]
     },
     "metadata": {},
     "output_type": "display_data"
    }
   ],
   "source": [
    "basic_pattern_analysis(raw_data$user_id, unique_only = TRUE)"
   ]
  },
  {
   "cell_type": "code",
   "execution_count": 10,
   "metadata": {},
   "outputs": [
    {
     "data": {
      "text/plain": [
       "\n",
       "  9999  99999 999999 \n",
       "   440    427   7306 "
      ]
     },
     "metadata": {},
     "output_type": "display_data"
    }
   ],
   "source": [
    "basic_pattern_analysis(raw_data$merchant_id, unique_only = TRUE)"
   ]
  },
  {
   "cell_type": "code",
   "execution_count": 11,
   "metadata": {},
   "outputs": [
    {
     "data": {
      "text/plain": [
       "\n",
       "99999 \n",
       " 8173 "
      ]
     },
     "metadata": {},
     "output_type": "display_data"
    }
   ],
   "source": [
    "basic_pattern_analysis(raw_data$coupon_value, unique_only = TRUE)"
   ]
  },
  {
   "cell_type": "code",
   "execution_count": 12,
   "metadata": {},
   "outputs": [
    {
     "data": {
      "text/plain": [
       "\n",
       "   9 \n",
       "8173 "
      ]
     },
     "metadata": {},
     "output_type": "display_data"
    }
   ],
   "source": [
    "basic_pattern_analysis(raw_data$three_trx, unique_only = TRUE)"
   ]
  },
  {
   "cell_type": "code",
   "execution_count": 13,
   "metadata": {},
   "outputs": [
    {
     "data": {
      "text/plain": [
       "\n",
       "   9 \n",
       "8173 "
      ]
     },
     "metadata": {},
     "output_type": "display_data"
    }
   ],
   "source": [
    "basic_pattern_analysis(raw_data$five_trx, unique_only = TRUE)"
   ]
  },
  {
   "cell_type": "markdown",
   "metadata": {},
   "source": [
    "<p style=\"color:darkred; line-height: 2\">Informasi yang didapat dari tahapan ini adalah:<br>\n",
    "1. kolom user_id dan merchant_id terisi oleh data yang seragam, yaitu data numerik atau data yang hanya memuat angka saja\n",
    "<Br>2. kolom coupon_value hanya terdiri dari angka 10000 dan 25000 (berdasarkan bpa dan summary pada tahapan sebelum)\n",
    "<br>3. kolom three_trx dan five_trx hanya terisi oleh angka 0 dan 1.\n",
    "<p style=\"color:darkred; line-height: 2\">\n",
    "Dari ketiga temuan diatas tidak ditemukan kemungkinan data memiliki Outlier."
   ]
  },
  {
   "cell_type": "markdown",
   "metadata": {},
   "source": [
    "<hr>\n",
    "\n",
    "### 1.3 Mengecek dan Mengganti Data yang Hilang\n",
    "<p style=\"color:darkred; line-height: 2\">Dari tahapan 1.1 diketahui bahwa terdapat 3  baris data yang hilang pada masing-masing kolom <i>\"user_id\",\"merchant_id\",\"coupon_value\",\"three_trx\",dan \"five_trx\"</i>, oleh karena itu dilakukan pencarian index dari ketiga data tersebut. "
   ]
  },
  {
   "cell_type": "code",
   "execution_count": 14,
   "metadata": {},
   "outputs": [
    {
     "data": {
      "text/html": [
       "<ol class=list-inline>\n",
       "\t<li>221</li>\n",
       "\t<li>408</li>\n",
       "\t<li>1017</li>\n",
       "</ol>\n"
      ],
      "text/latex": [
       "\\begin{enumerate*}\n",
       "\\item 221\n",
       "\\item 408\n",
       "\\item 1017\n",
       "\\end{enumerate*}\n"
      ],
      "text/markdown": [
       "1. 221\n",
       "2. 408\n",
       "3. 1017\n",
       "\n",
       "\n"
      ],
      "text/plain": [
       "[1]  221  408 1017"
      ]
     },
     "metadata": {},
     "output_type": "display_data"
    }
   ],
   "source": [
    "which(is.na(raw_data$user_id))"
   ]
  },
  {
   "cell_type": "code",
   "execution_count": 15,
   "metadata": {},
   "outputs": [
    {
     "data": {
      "text/html": [
       "<ol class=list-inline>\n",
       "\t<li>221</li>\n",
       "\t<li>408</li>\n",
       "\t<li>1017</li>\n",
       "</ol>\n"
      ],
      "text/latex": [
       "\\begin{enumerate*}\n",
       "\\item 221\n",
       "\\item 408\n",
       "\\item 1017\n",
       "\\end{enumerate*}\n"
      ],
      "text/markdown": [
       "1. 221\n",
       "2. 408\n",
       "3. 1017\n",
       "\n",
       "\n"
      ],
      "text/plain": [
       "[1]  221  408 1017"
      ]
     },
     "metadata": {},
     "output_type": "display_data"
    }
   ],
   "source": [
    "which(is.na(raw_data$user_id))"
   ]
  },
  {
   "cell_type": "code",
   "execution_count": 16,
   "metadata": {},
   "outputs": [
    {
     "data": {
      "text/html": [
       "<ol class=list-inline>\n",
       "\t<li>221</li>\n",
       "\t<li>408</li>\n",
       "\t<li>1017</li>\n",
       "</ol>\n"
      ],
      "text/latex": [
       "\\begin{enumerate*}\n",
       "\\item 221\n",
       "\\item 408\n",
       "\\item 1017\n",
       "\\end{enumerate*}\n"
      ],
      "text/markdown": [
       "1. 221\n",
       "2. 408\n",
       "3. 1017\n",
       "\n",
       "\n"
      ],
      "text/plain": [
       "[1]  221  408 1017"
      ]
     },
     "metadata": {},
     "output_type": "display_data"
    }
   ],
   "source": [
    "which(is.na(raw_data$merchant_id))"
   ]
  },
  {
   "cell_type": "code",
   "execution_count": 17,
   "metadata": {},
   "outputs": [
    {
     "data": {
      "text/html": [
       "<ol class=list-inline>\n",
       "\t<li>221</li>\n",
       "\t<li>408</li>\n",
       "\t<li>1017</li>\n",
       "</ol>\n"
      ],
      "text/latex": [
       "\\begin{enumerate*}\n",
       "\\item 221\n",
       "\\item 408\n",
       "\\item 1017\n",
       "\\end{enumerate*}\n"
      ],
      "text/markdown": [
       "1. 221\n",
       "2. 408\n",
       "3. 1017\n",
       "\n",
       "\n"
      ],
      "text/plain": [
       "[1]  221  408 1017"
      ]
     },
     "metadata": {},
     "output_type": "display_data"
    }
   ],
   "source": [
    "which(is.na(raw_data$coupon_value))"
   ]
  },
  {
   "cell_type": "code",
   "execution_count": 18,
   "metadata": {},
   "outputs": [
    {
     "data": {
      "text/html": [
       "<ol class=list-inline>\n",
       "\t<li>221</li>\n",
       "\t<li>408</li>\n",
       "\t<li>1017</li>\n",
       "</ol>\n"
      ],
      "text/latex": [
       "\\begin{enumerate*}\n",
       "\\item 221\n",
       "\\item 408\n",
       "\\item 1017\n",
       "\\end{enumerate*}\n"
      ],
      "text/markdown": [
       "1. 221\n",
       "2. 408\n",
       "3. 1017\n",
       "\n",
       "\n"
      ],
      "text/plain": [
       "[1]  221  408 1017"
      ]
     },
     "metadata": {},
     "output_type": "display_data"
    }
   ],
   "source": [
    "which(is.na(raw_data$three_trx))"
   ]
  },
  {
   "cell_type": "code",
   "execution_count": 19,
   "metadata": {},
   "outputs": [
    {
     "data": {
      "text/html": [
       "<ol class=list-inline>\n",
       "\t<li>221</li>\n",
       "\t<li>408</li>\n",
       "\t<li>1017</li>\n",
       "</ol>\n"
      ],
      "text/latex": [
       "\\begin{enumerate*}\n",
       "\\item 221\n",
       "\\item 408\n",
       "\\item 1017\n",
       "\\end{enumerate*}\n"
      ],
      "text/markdown": [
       "1. 221\n",
       "2. 408\n",
       "3. 1017\n",
       "\n",
       "\n"
      ],
      "text/plain": [
       "[1]  221  408 1017"
      ]
     },
     "metadata": {},
     "output_type": "display_data"
    }
   ],
   "source": [
    "which(is.na(raw_data$five_trx))"
   ]
  },
  {
   "cell_type": "markdown",
   "metadata": {},
   "source": [
    "<p style=\"color:darkred; line-height: 2\">\n",
    "Dengan perintah which(is.na(..)) pada setiap kolom, didapat informasi bahwa data yang hilang memiliki index 221, 408, dan 1017. Dilakukan pengecekan pada data dengan nomor index 221, 408, dan 1017."
   ]
  },
  {
   "cell_type": "code",
   "execution_count": 20,
   "metadata": {},
   "outputs": [
    {
     "data": {
      "text/html": [
       "<table>\n",
       "<thead><tr><th></th><th scope=col>X</th><th scope=col>user_id</th><th scope=col>merchant_id</th><th scope=col>coupon_value</th><th scope=col>three_trx</th><th scope=col>five_trx</th></tr></thead>\n",
       "<tbody>\n",
       "\t<tr><th scope=row>221</th><td>220,\"\",403849,25000,0,0 </td><td>NA                      </td><td>NA                      </td><td>NA                      </td><td>NA                      </td><td>NA                      </td></tr>\n",
       "\t<tr><th scope=row>408</th><td>407,517760,\"\",25000,0,0 </td><td>NA                      </td><td>NA                      </td><td>NA                      </td><td>NA                      </td><td>NA                      </td></tr>\n",
       "\t<tr><th scope=row>1017</th><td>1016,\"\",403849,25000,0,0</td><td>NA                      </td><td>NA                      </td><td>NA                      </td><td>NA                      </td><td>NA                      </td></tr>\n",
       "</tbody>\n",
       "</table>\n"
      ],
      "text/latex": [
       "\\begin{tabular}{r|llllll}\n",
       "  & X & user\\_id & merchant\\_id & coupon\\_value & three\\_trx & five\\_trx\\\\\n",
       "\\hline\n",
       "\t221 & 220,\"\",403849,25000,0,0  & NA                       & NA                       & NA                       & NA                       & NA                      \\\\\n",
       "\t408 & 407,517760,\"\",25000,0,0  & NA                       & NA                       & NA                       & NA                       & NA                      \\\\\n",
       "\t1017 & 1016,\"\",403849,25000,0,0 & NA                       & NA                       & NA                       & NA                       & NA                      \\\\\n",
       "\\end{tabular}\n"
      ],
      "text/markdown": [
       "\n",
       "| <!--/--> | X | user_id | merchant_id | coupon_value | three_trx | five_trx |\n",
       "|---|---|---|---|---|---|---|\n",
       "| 221 | 220,\"\",403849,25000,0,0  | NA                       | NA                       | NA                       | NA                       | NA                       |\n",
       "| 408 | 407,517760,\"\",25000,0,0  | NA                       | NA                       | NA                       | NA                       | NA                       |\n",
       "| 1017 | 1016,\"\",403849,25000,0,0 | NA                       | NA                       | NA                       | NA                       | NA                       |\n",
       "\n"
      ],
      "text/plain": [
       "     X                        user_id merchant_id coupon_value three_trx\n",
       "221  220,\"\",403849,25000,0,0  NA      NA          NA           NA       \n",
       "408  407,517760,\"\",25000,0,0  NA      NA          NA           NA       \n",
       "1017 1016,\"\",403849,25000,0,0 NA      NA          NA           NA       \n",
       "     five_trx\n",
       "221  NA      \n",
       "408  NA      \n",
       "1017 NA      "
      ]
     },
     "metadata": {},
     "output_type": "display_data"
    }
   ],
   "source": [
    "# melihat isi data yang mengandung NA\n",
    "raw_data[c(221,408,1017),]"
   ]
  },
  {
   "cell_type": "markdown",
   "metadata": {},
   "source": [
    "<p style=\"color:darkred; line-height: 2\">\n",
    "Dengan perintah which(is.na(..)) pada setiap kolom, didapat informasi bahwa data yang hilang memiliki index 221, 408, dan 1017. Dilakukan pengecekan pada data dengan nomor index 221, 408, dan 1017. Didapatkan informasi bahwa data tidak terbaca dengan baik dan menyebabkan data menumpuk pada kolom X. Oleh karena itu digunakan library <i>reshape2</i> untuk mensplit item dari kolom dan menyimpan data tersplit tersebut kedalam variabel raw_data_na_filler\n"
   ]
  },
  {
   "cell_type": "code",
   "execution_count": 21,
   "metadata": {},
   "outputs": [
    {
     "data": {
      "text/html": [
       "<table>\n",
       "<thead><tr><th scope=col>X</th><th scope=col>user_id</th><th scope=col>merchant_id</th><th scope=col>coupon_value</th><th scope=col>three_trx</th><th scope=col>five_trx</th></tr></thead>\n",
       "<tbody>\n",
       "\t<tr><td> 220  </td><td>\"\"    </td><td>403849</td><td>25000 </td><td>0     </td><td>0     </td></tr>\n",
       "\t<tr><td> 407  </td><td>517760</td><td>\"\"    </td><td>25000 </td><td>0     </td><td>0     </td></tr>\n",
       "\t<tr><td>1016  </td><td>\"\"    </td><td>403849</td><td>25000 </td><td>0     </td><td>0     </td></tr>\n",
       "</tbody>\n",
       "</table>\n"
      ],
      "text/latex": [
       "\\begin{tabular}{r|llllll}\n",
       " X & user\\_id & merchant\\_id & coupon\\_value & three\\_trx & five\\_trx\\\\\n",
       "\\hline\n",
       "\t  220   & \"\"     & 403849 & 25000  & 0      & 0     \\\\\n",
       "\t  407   & 517760 & \"\"     & 25000  & 0      & 0     \\\\\n",
       "\t 1016   & \"\"     & 403849 & 25000  & 0      & 0     \\\\\n",
       "\\end{tabular}\n"
      ],
      "text/markdown": [
       "\n",
       "| X | user_id | merchant_id | coupon_value | three_trx | five_trx |\n",
       "|---|---|---|---|---|---|\n",
       "|  220   | \"\"     | 403849 | 25000  | 0      | 0      |\n",
       "|  407   | 517760 | \"\"     | 25000  | 0      | 0      |\n",
       "| 1016   | \"\"     | 403849 | 25000  | 0      | 0      |\n",
       "\n"
      ],
      "text/plain": [
       "  X    user_id merchant_id coupon_value three_trx five_trx\n",
       "1  220 \"\"      403849      25000        0         0       \n",
       "2  407 517760  \"\"          25000        0         0       \n",
       "3 1016 \"\"      403849      25000        0         0       "
      ]
     },
     "metadata": {},
     "output_type": "display_data"
    }
   ],
   "source": [
    "library(reshape2)\n",
    "column_name <- c(\"X\",\"user_id\",\"merchant_id\",\"coupon_value\",\"three_trx\",\"five_trx\")\n",
    "\n",
    "# melakukan column split untuk data transaksi yang menumpuk\n",
    "raw_data_na_filler <- colsplit(raw_data[rowSums(is.na(raw_data)) > 0,]$X, \"\\\\,\", column_name)\n",
    "raw_data_na_filler"
   ]
  },
  {
   "cell_type": "markdown",
   "metadata": {},
   "source": [
    "<p style=\"color:darkred; line-height: 2\">\n",
    "Diketahui kolom user_id dan kolom merchant_id memiliki data tidak wajar (petik dua). Walaupun ketiga data tersebut termasuk insignifikan atau tidak berpengaruh banyak terhadap dataset keseluruhan dan dapat dihapus, namun setelah dipikirkan terdapat cara lain yang dapat digunakan sehingga ketiga data tersebut dapat berguna. \n",
    "\n",
    "<p style=\"color:darkred; line-height: 2\">Oleh karena itu kita ganti data tersebut dengan suatu bilangan integer maximum (sehingga tidak duplikat dengan merchant_id atau user_id lain)\n"
   ]
  },
  {
   "cell_type": "code",
   "execution_count": 22,
   "metadata": {},
   "outputs": [
    {
     "data": {
      "text/html": [
       "<table>\n",
       "<thead><tr><th scope=col>X</th><th scope=col>user_id</th><th scope=col>merchant_id</th><th scope=col>coupon_value</th><th scope=col>three_trx</th><th scope=col>five_trx</th></tr></thead>\n",
       "<tbody>\n",
       "\t<tr><td> 220      </td><td>2147483647</td><td>403849    </td><td>25000     </td><td>0         </td><td>0         </td></tr>\n",
       "\t<tr><td> 407      </td><td>517760    </td><td>2147483647</td><td>25000     </td><td>0         </td><td>0         </td></tr>\n",
       "\t<tr><td>1016      </td><td>2147483647</td><td>403849    </td><td>25000     </td><td>0         </td><td>0         </td></tr>\n",
       "</tbody>\n",
       "</table>\n"
      ],
      "text/latex": [
       "\\begin{tabular}{r|llllll}\n",
       " X & user\\_id & merchant\\_id & coupon\\_value & three\\_trx & five\\_trx\\\\\n",
       "\\hline\n",
       "\t  220       & 2147483647 & 403849     & 25000      & 0          & 0         \\\\\n",
       "\t  407       & 517760     & 2147483647 & 25000      & 0          & 0         \\\\\n",
       "\t 1016       & 2147483647 & 403849     & 25000      & 0          & 0         \\\\\n",
       "\\end{tabular}\n"
      ],
      "text/markdown": [
       "\n",
       "| X | user_id | merchant_id | coupon_value | three_trx | five_trx |\n",
       "|---|---|---|---|---|---|\n",
       "|  220       | 2147483647 | 403849     | 25000      | 0          | 0          |\n",
       "|  407       | 517760     | 2147483647 | 25000      | 0          | 0          |\n",
       "| 1016       | 2147483647 | 403849     | 25000      | 0          | 0          |\n",
       "\n"
      ],
      "text/plain": [
       "  X    user_id    merchant_id coupon_value three_trx five_trx\n",
       "1  220 2147483647 403849      25000        0         0       \n",
       "2  407 517760     2147483647  25000        0         0       \n",
       "3 1016 2147483647 403849      25000        0         0       "
      ]
     },
     "metadata": {},
     "output_type": "display_data"
    }
   ],
   "source": [
    "# menyiapkan id baru untuk data NA dengan nilai integer.max\n",
    "max.integer <- .Machine$integer.max\n",
    "\n",
    "# memasukan id baru untuk data yang hilang\n",
    "raw_data_na_filler$user_id <- gsub(\"\\\"{2,}\",max.integer, raw_data_na_filler$user_id )\n",
    "raw_data_na_filler$merchant_id <- gsub(\"\\\"{2,}\",max.integer, raw_data_na_filler$merchant_id )\n",
    "\n",
    "# menunjukan cuplikan data\n",
    "raw_data_na_filler"
   ]
  },
  {
   "cell_type": "markdown",
   "metadata": {},
   "source": [
    "<p style=\"color:darkred; line-height: 2\">\n",
    "Data pada raw_data_na_filler yang sudah terisi lengkap kemudian kita masukan ke dalam data keseluruhan raw_data."
   ]
  },
  {
   "cell_type": "code",
   "execution_count": 23,
   "metadata": {},
   "outputs": [
    {
     "name": "stderr",
     "output_type": "stream",
     "text": [
      "Warning message in `[<-.factor`(`*tmp*`, iseq, value = 220L):\n",
      "\"invalid factor level, NA generated\"Warning message in `[<-.factor`(`*tmp*`, iseq, value = 407L):\n",
      "\"invalid factor level, NA generated\"Warning message in `[<-.factor`(`*tmp*`, iseq, value = 1016L):\n",
      "\"invalid factor level, NA generated\""
     ]
    }
   ],
   "source": [
    "# memperbaiki kolom dengan nilai NA\n",
    "raw_data[221,] <- raw_data_na_filler[1,]\n",
    "raw_data[408,] <- raw_data_na_filler[2,]\n",
    "raw_data[1017,] <- raw_data_na_filler[3,]"
   ]
  },
  {
   "cell_type": "code",
   "execution_count": 24,
   "metadata": {},
   "outputs": [
    {
     "data": {
      "text/html": [
       "<table>\n",
       "<thead><tr><th></th><th scope=col>X</th><th scope=col>user_id</th><th scope=col>merchant_id</th><th scope=col>coupon_value</th><th scope=col>three_trx</th><th scope=col>five_trx</th></tr></thead>\n",
       "<tbody>\n",
       "\t<tr><th scope=row>221</th><td>NA        </td><td>2147483647</td><td>403849    </td><td>25000     </td><td>0         </td><td>0         </td></tr>\n",
       "\t<tr><th scope=row>408</th><td>NA        </td><td>517760    </td><td>2147483647</td><td>25000     </td><td>0         </td><td>0         </td></tr>\n",
       "\t<tr><th scope=row>1017</th><td>NA        </td><td>2147483647</td><td>403849    </td><td>25000     </td><td>0         </td><td>0         </td></tr>\n",
       "</tbody>\n",
       "</table>\n"
      ],
      "text/latex": [
       "\\begin{tabular}{r|llllll}\n",
       "  & X & user\\_id & merchant\\_id & coupon\\_value & three\\_trx & five\\_trx\\\\\n",
       "\\hline\n",
       "\t221 & NA         & 2147483647 & 403849     & 25000      & 0          & 0         \\\\\n",
       "\t408 & NA         & 517760     & 2147483647 & 25000      & 0          & 0         \\\\\n",
       "\t1017 & NA         & 2147483647 & 403849     & 25000      & 0          & 0         \\\\\n",
       "\\end{tabular}\n"
      ],
      "text/markdown": [
       "\n",
       "| <!--/--> | X | user_id | merchant_id | coupon_value | three_trx | five_trx |\n",
       "|---|---|---|---|---|---|---|\n",
       "| 221 | NA         | 2147483647 | 403849     | 25000      | 0          | 0          |\n",
       "| 408 | NA         | 517760     | 2147483647 | 25000      | 0          | 0          |\n",
       "| 1017 | NA         | 2147483647 | 403849     | 25000      | 0          | 0          |\n",
       "\n"
      ],
      "text/plain": [
       "     X  user_id    merchant_id coupon_value three_trx five_trx\n",
       "221  NA 2147483647 403849      25000        0         0       \n",
       "408  NA 517760     2147483647  25000        0         0       \n",
       "1017 NA 2147483647 403849      25000        0         0       "
      ]
     },
     "metadata": {},
     "output_type": "display_data"
    }
   ],
   "source": [
    "# mengecek hasil perbaikan kolom dengan nilai NA\n",
    "raw_data[c(221,408,1017),]"
   ]
  },
  {
   "cell_type": "markdown",
   "metadata": {},
   "source": [
    "<p style=\"color:darkred; line-height: 2\">\n",
    "Setelah itu kita hapus kolom X karena sekarang kolom tersebut sudah tidak berpengaruh apa-apa bagi dataset."
   ]
  },
  {
   "cell_type": "code",
   "execution_count": 25,
   "metadata": {},
   "outputs": [
    {
     "data": {
      "text/html": [
       "<table>\n",
       "<thead><tr><th scope=col>user_id</th><th scope=col>merchant_id</th><th scope=col>coupon_value</th><th scope=col>three_trx</th><th scope=col>five_trx</th></tr></thead>\n",
       "<tbody>\n",
       "\t<tr><td>384212</td><td>817754</td><td>25000 </td><td>0     </td><td>0     </td></tr>\n",
       "\t<tr><td>521382</td><td>571603</td><td>25000 </td><td>0     </td><td>0     </td></tr>\n",
       "\t<tr><td>492364</td><td>841900</td><td>25000 </td><td>0     </td><td>0     </td></tr>\n",
       "\t<tr><td>565771</td><td>74426 </td><td>25000 </td><td>0     </td><td>0     </td></tr>\n",
       "\t<tr><td>636203</td><td>404793</td><td>25000 </td><td>0     </td><td>0     </td></tr>\n",
       "\t<tr><td>788042</td><td>404793</td><td>25000 </td><td>0     </td><td>0     </td></tr>\n",
       "</tbody>\n",
       "</table>\n"
      ],
      "text/latex": [
       "\\begin{tabular}{r|lllll}\n",
       " user\\_id & merchant\\_id & coupon\\_value & three\\_trx & five\\_trx\\\\\n",
       "\\hline\n",
       "\t 384212 & 817754 & 25000  & 0      & 0     \\\\\n",
       "\t 521382 & 571603 & 25000  & 0      & 0     \\\\\n",
       "\t 492364 & 841900 & 25000  & 0      & 0     \\\\\n",
       "\t 565771 & 74426  & 25000  & 0      & 0     \\\\\n",
       "\t 636203 & 404793 & 25000  & 0      & 0     \\\\\n",
       "\t 788042 & 404793 & 25000  & 0      & 0     \\\\\n",
       "\\end{tabular}\n"
      ],
      "text/markdown": [
       "\n",
       "| user_id | merchant_id | coupon_value | three_trx | five_trx |\n",
       "|---|---|---|---|---|\n",
       "| 384212 | 817754 | 25000  | 0      | 0      |\n",
       "| 521382 | 571603 | 25000  | 0      | 0      |\n",
       "| 492364 | 841900 | 25000  | 0      | 0      |\n",
       "| 565771 | 74426  | 25000  | 0      | 0      |\n",
       "| 636203 | 404793 | 25000  | 0      | 0      |\n",
       "| 788042 | 404793 | 25000  | 0      | 0      |\n",
       "\n"
      ],
      "text/plain": [
       "  user_id merchant_id coupon_value three_trx five_trx\n",
       "1 384212  817754      25000        0         0       \n",
       "2 521382  571603      25000        0         0       \n",
       "3 492364  841900      25000        0         0       \n",
       "4 565771  74426       25000        0         0       \n",
       "5 636203  404793      25000        0         0       \n",
       "6 788042  404793      25000        0         0       "
      ]
     },
     "metadata": {},
     "output_type": "display_data"
    }
   ],
   "source": [
    "# membuang kolom \"X\" karena sudah tidak diperlukan\n",
    "raw_data$X <- NULL\n",
    "head(raw_data)"
   ]
  },
  {
   "cell_type": "markdown",
   "metadata": {},
   "source": [
    "<hr>\n",
    "\n",
    "### 1.4 Cek dan Perbaiki Data yang Duplikat\n",
    "<p style=\"color:darkred; line-height: 2\">\n",
    "Dilakukan pengecekan apakah terdapat data yang duplikat (pasangan user_id dengan merchant_id yang tercatat lebih dari 1x). Pengecekan dilakukan dengan membuat kolom baru duplicate_check yang berisi hasil concatenation dari user_id dan merchant_id. Hal ini dilakukan karena hasil concatenation dipastikan selalu unik dan diniai lebih cepat ketimbang membandingkan pasangan user_id dan merchant_id satu persatu. Kemudian dilakukan pencatatan kode unik duplicate_check yang muncul lebih dari 1x."
   ]
  },
  {
   "cell_type": "code",
   "execution_count": 26,
   "metadata": {},
   "outputs": [],
   "source": [
    "raw_data$duplicate_check <- paste(raw_data$user_id, raw_data$merchant_id, sep=\" \")"
   ]
  },
  {
   "cell_type": "code",
   "execution_count": 27,
   "metadata": {},
   "outputs": [
    {
     "data": {
      "text/html": [
       "<table>\n",
       "<thead><tr><th scope=col>user_id</th><th scope=col>merchant_id</th><th scope=col>coupon_value</th><th scope=col>three_trx</th><th scope=col>five_trx</th><th scope=col>duplicate_check</th></tr></thead>\n",
       "<tbody>\n",
       "\t<tr><td>384212       </td><td>817754       </td><td>25000        </td><td>0            </td><td>0            </td><td>384212 817754</td></tr>\n",
       "\t<tr><td>521382       </td><td>571603       </td><td>25000        </td><td>0            </td><td>0            </td><td>521382 571603</td></tr>\n",
       "\t<tr><td>492364       </td><td>841900       </td><td>25000        </td><td>0            </td><td>0            </td><td>492364 841900</td></tr>\n",
       "\t<tr><td>565771       </td><td>74426        </td><td>25000        </td><td>0            </td><td>0            </td><td>565771 74426 </td></tr>\n",
       "\t<tr><td>636203       </td><td>404793       </td><td>25000        </td><td>0            </td><td>0            </td><td>636203 404793</td></tr>\n",
       "\t<tr><td>788042       </td><td>404793       </td><td>25000        </td><td>0            </td><td>0            </td><td>788042 404793</td></tr>\n",
       "</tbody>\n",
       "</table>\n"
      ],
      "text/latex": [
       "\\begin{tabular}{r|llllll}\n",
       " user\\_id & merchant\\_id & coupon\\_value & three\\_trx & five\\_trx & duplicate\\_check\\\\\n",
       "\\hline\n",
       "\t 384212        & 817754        & 25000         & 0             & 0             & 384212 817754\\\\\n",
       "\t 521382        & 571603        & 25000         & 0             & 0             & 521382 571603\\\\\n",
       "\t 492364        & 841900        & 25000         & 0             & 0             & 492364 841900\\\\\n",
       "\t 565771        & 74426         & 25000         & 0             & 0             & 565771 74426 \\\\\n",
       "\t 636203        & 404793        & 25000         & 0             & 0             & 636203 404793\\\\\n",
       "\t 788042        & 404793        & 25000         & 0             & 0             & 788042 404793\\\\\n",
       "\\end{tabular}\n"
      ],
      "text/markdown": [
       "\n",
       "| user_id | merchant_id | coupon_value | three_trx | five_trx | duplicate_check |\n",
       "|---|---|---|---|---|---|\n",
       "| 384212        | 817754        | 25000         | 0             | 0             | 384212 817754 |\n",
       "| 521382        | 571603        | 25000         | 0             | 0             | 521382 571603 |\n",
       "| 492364        | 841900        | 25000         | 0             | 0             | 492364 841900 |\n",
       "| 565771        | 74426         | 25000         | 0             | 0             | 565771 74426  |\n",
       "| 636203        | 404793        | 25000         | 0             | 0             | 636203 404793 |\n",
       "| 788042        | 404793        | 25000         | 0             | 0             | 788042 404793 |\n",
       "\n"
      ],
      "text/plain": [
       "  user_id merchant_id coupon_value three_trx five_trx duplicate_check\n",
       "1 384212  817754      25000        0         0        384212 817754  \n",
       "2 521382  571603      25000        0         0        521382 571603  \n",
       "3 492364  841900      25000        0         0        492364 841900  \n",
       "4 565771  74426       25000        0         0        565771 74426   \n",
       "5 636203  404793      25000        0         0        636203 404793  \n",
       "6 788042  404793      25000        0         0        788042 404793  "
      ]
     },
     "metadata": {},
     "output_type": "display_data"
    }
   ],
   "source": [
    "# melihat cuplikan data\n",
    "head(raw_data)"
   ]
  },
  {
   "cell_type": "code",
   "execution_count": 28,
   "metadata": {},
   "outputs": [
    {
     "data": {
      "text/html": [
       "<table>\n",
       "<thead><tr><th></th><th scope=col>Var1</th><th scope=col>Freq</th></tr></thead>\n",
       "<tbody>\n",
       "\t<tr><th scope=row>1049</th><td>2147483647 403849</td><td>2                </td></tr>\n",
       "\t<tr><th scope=row>5646</th><td>71860 403849     </td><td>2                </td></tr>\n",
       "</tbody>\n",
       "</table>\n"
      ],
      "text/latex": [
       "\\begin{tabular}{r|ll}\n",
       "  & Var1 & Freq\\\\\n",
       "\\hline\n",
       "\t1049 & 2147483647 403849 & 2                \\\\\n",
       "\t5646 & 71860 403849      & 2                \\\\\n",
       "\\end{tabular}\n"
      ],
      "text/markdown": [
       "\n",
       "| <!--/--> | Var1 | Freq |\n",
       "|---|---|---|\n",
       "| 1049 | 2147483647 403849 | 2                 |\n",
       "| 5646 | 71860 403849      | 2                 |\n",
       "\n"
      ],
      "text/plain": [
       "     Var1              Freq\n",
       "1049 2147483647 403849 2   \n",
       "5646 71860 403849      2   "
      ]
     },
     "metadata": {},
     "output_type": "display_data"
    }
   ],
   "source": [
    "# mencari transaksi dengan frekuensi lebih dari 1\n",
    "n_occur <- data.frame(table(raw_data$duplicate_check))\n",
    "n_occur[n_occur$Freq > 1,]\n"
   ]
  },
  {
   "cell_type": "code",
   "execution_count": 29,
   "metadata": {},
   "outputs": [
    {
     "data": {
      "text/html": [
       "<table>\n",
       "<thead><tr><th></th><th scope=col>user_id</th><th scope=col>merchant_id</th><th scope=col>coupon_value</th><th scope=col>three_trx</th><th scope=col>five_trx</th><th scope=col>duplicate_check</th></tr></thead>\n",
       "<tbody>\n",
       "\t<tr><th scope=row>221</th><td>2147483647       </td><td>403849           </td><td>25000            </td><td>0                </td><td>0                </td><td>2147483647 403849</td></tr>\n",
       "\t<tr><th scope=row>1017</th><td>2147483647       </td><td>403849           </td><td>25000            </td><td>0                </td><td>0                </td><td>2147483647 403849</td></tr>\n",
       "\t<tr><th scope=row>1612</th><td>71860            </td><td>403849           </td><td>25000            </td><td>1                </td><td>1                </td><td>71860 403849     </td></tr>\n",
       "\t<tr><th scope=row>3317</th><td>71860            </td><td>403849           </td><td>25000            </td><td>0                </td><td>0                </td><td>71860 403849     </td></tr>\n",
       "</tbody>\n",
       "</table>\n"
      ],
      "text/latex": [
       "\\begin{tabular}{r|llllll}\n",
       "  & user\\_id & merchant\\_id & coupon\\_value & three\\_trx & five\\_trx & duplicate\\_check\\\\\n",
       "\\hline\n",
       "\t221 & 2147483647        & 403849            & 25000             & 0                 & 0                 & 2147483647 403849\\\\\n",
       "\t1017 & 2147483647        & 403849            & 25000             & 0                 & 0                 & 2147483647 403849\\\\\n",
       "\t1612 & 71860             & 403849            & 25000             & 1                 & 1                 & 71860 403849     \\\\\n",
       "\t3317 & 71860             & 403849            & 25000             & 0                 & 0                 & 71860 403849     \\\\\n",
       "\\end{tabular}\n"
      ],
      "text/markdown": [
       "\n",
       "| <!--/--> | user_id | merchant_id | coupon_value | three_trx | five_trx | duplicate_check |\n",
       "|---|---|---|---|---|---|---|\n",
       "| 221 | 2147483647        | 403849            | 25000             | 0                 | 0                 | 2147483647 403849 |\n",
       "| 1017 | 2147483647        | 403849            | 25000             | 0                 | 0                 | 2147483647 403849 |\n",
       "| 1612 | 71860             | 403849            | 25000             | 1                 | 1                 | 71860 403849      |\n",
       "| 3317 | 71860             | 403849            | 25000             | 0                 | 0                 | 71860 403849      |\n",
       "\n"
      ],
      "text/plain": [
       "     user_id    merchant_id coupon_value three_trx five_trx duplicate_check  \n",
       "221  2147483647 403849      25000        0         0        2147483647 403849\n",
       "1017 2147483647 403849      25000        0         0        2147483647 403849\n",
       "1612 71860      403849      25000        1         1        71860 403849     \n",
       "3317 71860      403849      25000        0         0        71860 403849     "
      ]
     },
     "metadata": {},
     "output_type": "display_data"
    }
   ],
   "source": [
    "# melihat data transaksi dengan frekuensi lebih dari 1\n",
    "raw_data[raw_data$duplicate_check %in% n_occur$Var1[n_occur$Freq > 1],]"
   ]
  },
  {
   "cell_type": "markdown",
   "metadata": {},
   "source": [
    "<p style=\"color:darkred; line-height: 2\">\n",
    "Ditemukan informasi bahwa duplicate_check \"2147483647 403849\" dan \"71860 403849\" masing-masing muncul sebanyak 2x. \n",
    "\n",
    "<p style=\"color:darkred; line-height: 2\">Untuk duplicate_check \"2147483647 403849\" akan dibiarkan saja karena angka user_id \"2147483647\" merupakan nilai integer max yang dibuat saat berurusan dengan variabel NA, sehingga kedua transaksi dengan duplicate_check tersebut kecil kemungkinan berasal dari user yang sama di kenyataanya.\n",
    "\n",
    "<p style=\"color:darkred; line-height: 2\">Untuk duplicate_check \"71860 403849\" ditemukan 2 transaksi yang memiliki user_id dan merchant_id yang sama. Sehingga data dengan index 1612 akan tetap digunakan, sementara data dengan index 3317 akan dihapus untuk menghilangkan redundansi data.\n",
    "\n",
    "<p style=\"color:darkred; line-height: 2\">Data telah bersih karena telah memenuhi syarat-syarat yang ditentukan di awal. Data kemudian disimpan kedalam variabel baru bernama preprocessed_data"
   ]
  },
  {
   "cell_type": "code",
   "execution_count": 30,
   "metadata": {},
   "outputs": [],
   "source": [
    "preprocessed_data <- raw_data[-3317,] \n",
    "preprocessed_data$duplicate_check <- NULL\n",
    "rownames(preprocessed_data) <- NULL"
   ]
  },
  {
   "cell_type": "markdown",
   "metadata": {},
   "source": [
    "<hr>\n",
    "\n",
    "### 1.5 Informasi Data Bersih\n",
    "<p style=\"color:darkred; line-height: 2\">\n",
    "Dilakukan analisis final pada data yang sudah bersih."
   ]
  },
  {
   "cell_type": "code",
   "execution_count": 31,
   "metadata": {},
   "outputs": [
    {
     "name": "stdout",
     "output_type": "stream",
     "text": [
      "'data.frame':\t8175 obs. of  5 variables:\n",
      " $ user_id     : chr  \"384212\" \"521382\" \"492364\" \"565771\" ...\n",
      " $ merchant_id : chr  \"817754\" \"571603\" \"841900\" \"74426\" ...\n",
      " $ coupon_value: Factor w/ 2 levels \"10000\",\"25000\": 2 2 2 2 2 2 2 2 2 2 ...\n",
      " $ three_trx   : Factor w/ 2 levels \"0\",\"1\": 1 1 1 1 1 1 1 2 1 1 ...\n",
      " $ five_trx    : Factor w/ 2 levels \"0\",\"1\": 1 1 1 1 1 1 1 1 1 1 ...\n"
     ]
    }
   ],
   "source": [
    "str(preprocessed_data)"
   ]
  },
  {
   "cell_type": "code",
   "execution_count": 32,
   "metadata": {},
   "outputs": [
    {
     "data": {
      "text/plain": [
       "   user_id          merchant_id        coupon_value three_trx five_trx\n",
       " Length:8175        Length:8175        10000:3978   0:7910    0:8132  \n",
       " Class :character   Class :character   25000:4197   1: 265    1:  43  \n",
       " Mode  :character   Mode  :character                                  "
      ]
     },
     "metadata": {},
     "output_type": "display_data"
    }
   ],
   "source": [
    "summary(preprocessed_data)"
   ]
  },
  {
   "cell_type": "markdown",
   "metadata": {},
   "source": [
    "<p style=\"color:darkred; line-height: 2\">\n",
    "Berikut beberapa <u>informasi</u> yang dapat diambil:\n",
    "<p style=\"color:darkred; line-height: 2\">\n",
    "1. Dataset terdiri dari data sejumlah 8175.\n",
    "<br>2. Kupon voucher 10000 dibagikan sebanyak 3978 buah dan kupon voucher 25000 dibagikan sebanyak 4197 buah.\n",
    "<br>3. Transaksi kembali sebanyak 3x berjumlah 265 dan dari 265 transaksi tersebut 43 diantaranya bertransaksi sampai dengan 45x."
   ]
  },
  {
   "cell_type": "code",
   "execution_count": 33,
   "metadata": {},
   "outputs": [
    {
     "data": {
      "text/html": [
       "<table>\n",
       "<thead><tr><th></th><th scope=col>user_id</th><th scope=col>merchant_id</th><th scope=col>coupon_value</th><th scope=col>three_trx</th><th scope=col>five_trx</th></tr></thead>\n",
       "<tbody>\n",
       "\t<tr><th scope=row>4198</th><td>167345</td><td>666703</td><td>10000 </td><td>0     </td><td>0     </td></tr>\n",
       "\t<tr><th scope=row>4199</th><td>798662</td><td>817754</td><td>10000 </td><td>0     </td><td>0     </td></tr>\n",
       "\t<tr><th scope=row>4200</th><td>234162</td><td>166745</td><td>10000 </td><td>0     </td><td>0     </td></tr>\n",
       "\t<tr><th scope=row>4201</th><td>260263</td><td>404793</td><td>10000 </td><td>0     </td><td>0     </td></tr>\n",
       "\t<tr><th scope=row>4202</th><td>797075</td><td>666703</td><td>10000 </td><td>0     </td><td>0     </td></tr>\n",
       "\t<tr><th scope=row>4203</th><td>431481</td><td>166745</td><td>10000 </td><td>0     </td><td>0     </td></tr>\n",
       "</tbody>\n",
       "</table>\n"
      ],
      "text/latex": [
       "\\begin{tabular}{r|lllll}\n",
       "  & user\\_id & merchant\\_id & coupon\\_value & three\\_trx & five\\_trx\\\\\n",
       "\\hline\n",
       "\t4198 & 167345 & 666703 & 10000  & 0      & 0     \\\\\n",
       "\t4199 & 798662 & 817754 & 10000  & 0      & 0     \\\\\n",
       "\t4200 & 234162 & 166745 & 10000  & 0      & 0     \\\\\n",
       "\t4201 & 260263 & 404793 & 10000  & 0      & 0     \\\\\n",
       "\t4202 & 797075 & 666703 & 10000  & 0      & 0     \\\\\n",
       "\t4203 & 431481 & 166745 & 10000  & 0      & 0     \\\\\n",
       "\\end{tabular}\n"
      ],
      "text/markdown": [
       "\n",
       "| <!--/--> | user_id | merchant_id | coupon_value | three_trx | five_trx |\n",
       "|---|---|---|---|---|---|\n",
       "| 4198 | 167345 | 666703 | 10000  | 0      | 0      |\n",
       "| 4199 | 798662 | 817754 | 10000  | 0      | 0      |\n",
       "| 4200 | 234162 | 166745 | 10000  | 0      | 0      |\n",
       "| 4201 | 260263 | 404793 | 10000  | 0      | 0      |\n",
       "| 4202 | 797075 | 666703 | 10000  | 0      | 0      |\n",
       "| 4203 | 431481 | 166745 | 10000  | 0      | 0      |\n",
       "\n"
      ],
      "text/plain": [
       "     user_id merchant_id coupon_value three_trx five_trx\n",
       "4198 167345  666703      10000        0         0       \n",
       "4199 798662  817754      10000        0         0       \n",
       "4200 234162  166745      10000        0         0       \n",
       "4201 260263  404793      10000        0         0       \n",
       "4202 797075  666703      10000        0         0       \n",
       "4203 431481  166745      10000        0         0       "
      ]
     },
     "metadata": {},
     "output_type": "display_data"
    },
    {
     "data": {
      "text/plain": [
       "   user_id          merchant_id        coupon_value three_trx five_trx\n",
       " Length:3978        Length:3978        10000:3978   0:3859    0:3960  \n",
       " Class :character   Class :character   25000:   0   1: 119    1:  18  \n",
       " Mode  :character   Mode  :character                                  "
      ]
     },
     "metadata": {},
     "output_type": "display_data"
    },
    {
     "name": "stdout",
     "output_type": "stream",
     "text": [
      "3 times :  2.991453 %\n",
      "5 times :  0.4524887 %"
     ]
    }
   ],
   "source": [
    "# dataset dengan spesifik nominal voucher 10000\n",
    "promo_10k <- preprocessed_data[preprocessed_data$coupon_value == 10000,]\n",
    "head(promo_10k)\n",
    "summary(promo_10k)\n",
    "\n",
    "# menghitung persentasi kembali atau tidaknya pelanggan\n",
    "cat(\"3 times : \",100*119/3978,\"%\")\n",
    "cat(\"\\n5 times : \",100*18/3978,\"%\")"
   ]
  },
  {
   "cell_type": "code",
   "execution_count": 34,
   "metadata": {},
   "outputs": [
    {
     "data": {
      "text/html": [
       "<table>\n",
       "<thead><tr><th scope=col>user_id</th><th scope=col>merchant_id</th><th scope=col>coupon_value</th><th scope=col>three_trx</th><th scope=col>five_trx</th></tr></thead>\n",
       "<tbody>\n",
       "\t<tr><td>384212</td><td>817754</td><td>25000 </td><td>0     </td><td>0     </td></tr>\n",
       "\t<tr><td>521382</td><td>571603</td><td>25000 </td><td>0     </td><td>0     </td></tr>\n",
       "\t<tr><td>492364</td><td>841900</td><td>25000 </td><td>0     </td><td>0     </td></tr>\n",
       "\t<tr><td>565771</td><td>74426 </td><td>25000 </td><td>0     </td><td>0     </td></tr>\n",
       "\t<tr><td>636203</td><td>404793</td><td>25000 </td><td>0     </td><td>0     </td></tr>\n",
       "\t<tr><td>788042</td><td>404793</td><td>25000 </td><td>0     </td><td>0     </td></tr>\n",
       "</tbody>\n",
       "</table>\n"
      ],
      "text/latex": [
       "\\begin{tabular}{r|lllll}\n",
       " user\\_id & merchant\\_id & coupon\\_value & three\\_trx & five\\_trx\\\\\n",
       "\\hline\n",
       "\t 384212 & 817754 & 25000  & 0      & 0     \\\\\n",
       "\t 521382 & 571603 & 25000  & 0      & 0     \\\\\n",
       "\t 492364 & 841900 & 25000  & 0      & 0     \\\\\n",
       "\t 565771 & 74426  & 25000  & 0      & 0     \\\\\n",
       "\t 636203 & 404793 & 25000  & 0      & 0     \\\\\n",
       "\t 788042 & 404793 & 25000  & 0      & 0     \\\\\n",
       "\\end{tabular}\n"
      ],
      "text/markdown": [
       "\n",
       "| user_id | merchant_id | coupon_value | three_trx | five_trx |\n",
       "|---|---|---|---|---|\n",
       "| 384212 | 817754 | 25000  | 0      | 0      |\n",
       "| 521382 | 571603 | 25000  | 0      | 0      |\n",
       "| 492364 | 841900 | 25000  | 0      | 0      |\n",
       "| 565771 | 74426  | 25000  | 0      | 0      |\n",
       "| 636203 | 404793 | 25000  | 0      | 0      |\n",
       "| 788042 | 404793 | 25000  | 0      | 0      |\n",
       "\n"
      ],
      "text/plain": [
       "  user_id merchant_id coupon_value three_trx five_trx\n",
       "1 384212  817754      25000        0         0       \n",
       "2 521382  571603      25000        0         0       \n",
       "3 492364  841900      25000        0         0       \n",
       "4 565771  74426       25000        0         0       \n",
       "5 636203  404793      25000        0         0       \n",
       "6 788042  404793      25000        0         0       "
      ]
     },
     "metadata": {},
     "output_type": "display_data"
    },
    {
     "data": {
      "text/plain": [
       "   user_id          merchant_id        coupon_value three_trx five_trx\n",
       " Length:4197        Length:4197        10000:   0   0:4051    0:4172  \n",
       " Class :character   Class :character   25000:4197   1: 146    1:  25  \n",
       " Mode  :character   Mode  :character                                  "
      ]
     },
     "metadata": {},
     "output_type": "display_data"
    },
    {
     "name": "stdout",
     "output_type": "stream",
     "text": [
      "3 times :  3.478675 %\n",
      "5 times :  0.5956636 %"
     ]
    }
   ],
   "source": [
    "# dataset dengan spesifik nominal voucher 25000\n",
    "promo_25k <- preprocessed_data[preprocessed_data$coupon_value == 25000,]\n",
    "head(promo_25k)\n",
    "summary(promo_25k)\n",
    "\n",
    "# menghitung persentasi kembali atau tidaknya pelanggan\n",
    "cat(\"3 times : \",100*146/4197,\"%\")\n",
    "cat(\"\\n5 times : \",100*25/4197,\"%\")"
   ]
  },
  {
   "cell_type": "markdown",
   "metadata": {},
   "source": [
    "<p style=\"color:darkred; line-height: 2\">\n",
    "Dilakukan pembagian preprocessed_data ke dalam 2 dataframe yaitu promo_10k dan  promo_25k agar kedua tipe promosi dapat dibandingkan\n",
    "\n",
    "<p style=\"color:darkred; line-height: 2\">\n",
    "<br>4. <u>Informasi</u> yang dapat diambil pada data promo_10k:\n",
    "Kupon voucher 10000 dipakai sebanyak 3x dengan frekuensi 119 dari 3978 tiket (2.991%) dan terpakai sebanyak 5x dengan frekuensi 18 dari 3978 tiket (0.452%).\n",
    "<br>5. <u>Informasi</u> yang dapat diambil pada data promo_25k:\n",
    "Kupon voucher 10000 dipakai sebanyak 3x dengan frekuensi 146 dari 4197 tiket (3.478%) dan terpakai sebanyak 5x dengan frekuensi 25 dari 4197 tiket (0.595%)."
   ]
  },
  {
   "cell_type": "markdown",
   "metadata": {},
   "source": [
    "<hr>\n",
    "\n",
    "### 1.6 Pengembangan Dataframe preprocessed_data\n",
    "<p style=\"color:darkred; line-height: 2\">Tahapan ini dilakukan dengan tujuan menggali lebih banyak informasi penting antara merchant_id dengan frekuensi pengguna voucher kembali sebanyak 3x ataupun 5x (merchant dibawah 3x tidak diikutkan dalam dataframe)\n",
    "\n",
    "<p style=\"color:darkred; line-height: 2\">Pada tahapan ini 2 datframe baru dibentuk berdasarkan dataframe preprocessed_data. Ketiga dataframe tersebut disimpan dalam nama variabel occurence_freq_10k dan occurence_freq_25k. Kedua dataframe ini menyimpan informasi transaksi berdasarkan merchant_id.\n",
    "\n",
    "<p style=\"color:darkred; line-height: 2\">Kolom pada kedua dataframe dengan penjelasanya sebagai berikut:  \n",
    "<Br>-Var1 : Seluruh merchant_id yang terdapat pada dataframe preprocessed_data\n",
    "<Br>-freq_merchant : frekuensi kemunculan merchant_id dataframe preprocessed_data\n",
    "<br>-freq_three : frekuensi kemunculan lebih dari 3x transaksi kembali pada merchant_id tertentu \n",
    "<br>-freq_five : frekuensi kemunculan lebih dari 5x transaksi kembali pada merchant_id tertentu \n",
    "<Br>-percentage_three :    persentase kemunculan lebih dari 3x transaksi kembali pada suatu merchant (freq_three/freq_merchant)\n",
    "<Br>-percentage_five : persentase kemunculan lebih dari 5x transaksi kembali pada suatu merchant (freq_five/freq_merchant)\n",
    "    \n",
    "  "
   ]
  },
  {
   "cell_type": "code",
   "execution_count": 35,
   "metadata": {},
   "outputs": [
    {
     "data": {
      "text/html": [
       "<table>\n",
       "<thead><tr><th></th><th scope=col>Var1</th><th scope=col>freq_merchant</th><th scope=col>freq_three</th><th scope=col>freq_five</th><th scope=col>percentage_three</th><th scope=col>percentage_five</th></tr></thead>\n",
       "<tbody>\n",
       "\t<tr><th scope=row>7</th><td>666703    </td><td>781       </td><td>14        </td><td>3         </td><td> 1.792574 </td><td> 0.3841229</td></tr>\n",
       "\t<tr><th scope=row>4</th><td>404793    </td><td>498       </td><td>22        </td><td>3         </td><td> 4.417671 </td><td> 0.6024096</td></tr>\n",
       "\t<tr><th scope=row>1</th><td>311420    </td><td>467       </td><td>15        </td><td>2         </td><td> 3.211991 </td><td> 0.4282655</td></tr>\n",
       "\t<tr><th scope=row>2</th><td>355706    </td><td>375       </td><td>11        </td><td>1         </td><td> 2.933333 </td><td> 0.2666667</td></tr>\n",
       "\t<tr><th scope=row>9</th><td>817754    </td><td>231       </td><td>16        </td><td>5         </td><td> 6.926407 </td><td> 2.1645022</td></tr>\n",
       "\t<tr><th scope=row>3</th><td>376444    </td><td>217       </td><td> 3        </td><td>1         </td><td> 1.382488 </td><td> 0.4608295</td></tr>\n",
       "\t<tr><th scope=row>8</th><td>74426     </td><td> 48       </td><td> 2        </td><td>1         </td><td> 4.166667 </td><td> 2.0833333</td></tr>\n",
       "\t<tr><th scope=row>6</th><td>571603    </td><td> 42       </td><td> 2        </td><td>1         </td><td> 4.761905 </td><td> 2.3809524</td></tr>\n",
       "\t<tr><th scope=row>5</th><td>518674    </td><td>  9       </td><td> 1        </td><td>1         </td><td>11.111111 </td><td>11.1111111</td></tr>\n",
       "</tbody>\n",
       "</table>\n"
      ],
      "text/latex": [
       "\\begin{tabular}{r|llllll}\n",
       "  & Var1 & freq\\_merchant & freq\\_three & freq\\_five & percentage\\_three & percentage\\_five\\\\\n",
       "\\hline\n",
       "\t7 & 666703     & 781        & 14         & 3          &  1.792574  &  0.3841229\\\\\n",
       "\t4 & 404793     & 498        & 22         & 3          &  4.417671  &  0.6024096\\\\\n",
       "\t1 & 311420     & 467        & 15         & 2          &  3.211991  &  0.4282655\\\\\n",
       "\t2 & 355706     & 375        & 11         & 1          &  2.933333  &  0.2666667\\\\\n",
       "\t9 & 817754     & 231        & 16         & 5          &  6.926407  &  2.1645022\\\\\n",
       "\t3 & 376444     & 217        &  3         & 1          &  1.382488  &  0.4608295\\\\\n",
       "\t8 & 74426      &  48        &  2         & 1          &  4.166667  &  2.0833333\\\\\n",
       "\t6 & 571603     &  42        &  2         & 1          &  4.761905  &  2.3809524\\\\\n",
       "\t5 & 518674     &   9        &  1         & 1          & 11.111111  & 11.1111111\\\\\n",
       "\\end{tabular}\n"
      ],
      "text/markdown": [
       "\n",
       "| <!--/--> | Var1 | freq_merchant | freq_three | freq_five | percentage_three | percentage_five |\n",
       "|---|---|---|---|---|---|---|\n",
       "| 7 | 666703     | 781        | 14         | 3          |  1.792574  |  0.3841229 |\n",
       "| 4 | 404793     | 498        | 22         | 3          |  4.417671  |  0.6024096 |\n",
       "| 1 | 311420     | 467        | 15         | 2          |  3.211991  |  0.4282655 |\n",
       "| 2 | 355706     | 375        | 11         | 1          |  2.933333  |  0.2666667 |\n",
       "| 9 | 817754     | 231        | 16         | 5          |  6.926407  |  2.1645022 |\n",
       "| 3 | 376444     | 217        |  3         | 1          |  1.382488  |  0.4608295 |\n",
       "| 8 | 74426      |  48        |  2         | 1          |  4.166667  |  2.0833333 |\n",
       "| 6 | 571603     |  42        |  2         | 1          |  4.761905  |  2.3809524 |\n",
       "| 5 | 518674     |   9        |  1         | 1          | 11.111111  | 11.1111111 |\n",
       "\n"
      ],
      "text/plain": [
       "  Var1   freq_merchant freq_three freq_five percentage_three percentage_five\n",
       "7 666703 781           14         3          1.792574         0.3841229     \n",
       "4 404793 498           22         3          4.417671         0.6024096     \n",
       "1 311420 467           15         2          3.211991         0.4282655     \n",
       "2 355706 375           11         1          2.933333         0.2666667     \n",
       "9 817754 231           16         5          6.926407         2.1645022     \n",
       "3 376444 217            3         1          1.382488         0.4608295     \n",
       "8 74426   48            2         1          4.166667         2.0833333     \n",
       "6 571603  42            2         1          4.761905         2.3809524     \n",
       "5 518674   9            1         1         11.111111        11.1111111     "
      ]
     },
     "metadata": {},
     "output_type": "display_data"
    }
   ],
   "source": [
    "# menyimpan frekuensi kemunculan merchant_id (khusus untuk nominal voucher 10000)\n",
    "occur_merchant <- data.frame(table(promo_10k$merchant_id))\n",
    "colnames(occur_merchant)[2] <-\"freq_merchant\"\n",
    "\n",
    "# menyimpan frekuensi pelanggan kembali ke suatu merchant_id sebanyak 3x\n",
    "three_times <-promo_10k[promo_10k$three_trx == 1, ]\n",
    "occur_three <- data.frame(table(three_times$merchant_id))\n",
    "colnames(occur_three)[2] <-\"freq_three\"\n",
    "\n",
    "# menyimpan frekuensi pelanggan kembali ke suatu merchant_id sebanyak 5x\n",
    "five_times <-promo_10k[promo_10k$five_trx == 1, ]\n",
    "occur_five <- data.frame(table(five_times$merchant_id))\n",
    "colnames(occur_five)[2] <-\"freq_five\"\n",
    "\n",
    "# menggabungkan ketiga dataframe sebelumnya berdasarkan merchant_id\n",
    "occurence_freq_10k <- merge(occur_merchant, occur_three, by=\"Var1\")\n",
    "occurence_freq_10k <- merge(occurence_freq_10k, occur_five, by=\"Var1\")\n",
    "\n",
    "# menambahkan kolom persentase kembalinya pelanggan ke suatu merchant\n",
    "occurence_freq_10k$percentage_three <- 100* occurence_freq_10k$freq_three / occurence_freq_10k$freq_merchant\n",
    "occurence_freq_10k$percentage_five <- 100* occurence_freq_10k$freq_five / occurence_freq_10k$freq_merchant\n",
    "occurence_freq_10k$Var1 <- as.factor(occurence_freq_10k$Var1)\n",
    "\n",
    "# sort berdasarkan merchant_id yang paling sering muncul\n",
    "occurence_freq_10k[order(-occurence_freq_10k$freq_merchant),]\n"
   ]
  },
  {
   "cell_type": "code",
   "execution_count": 36,
   "metadata": {},
   "outputs": [
    {
     "data": {
      "text/html": [
       "<table>\n",
       "<thead><tr><th></th><th scope=col>Var1</th><th scope=col>freq_merchant</th><th scope=col>freq_three</th><th scope=col>freq_five</th><th scope=col>percentage_three</th><th scope=col>percentage_five</th></tr></thead>\n",
       "<tbody>\n",
       "\t<tr><th scope=row>8</th><td>404793    </td><td>693       </td><td>23        </td><td>1         </td><td> 3.3189033</td><td> 0.1443001</td></tr>\n",
       "\t<tr><th scope=row>9</th><td>531400    </td><td>668       </td><td>13        </td><td>1         </td><td> 1.9461078</td><td> 0.1497006</td></tr>\n",
       "\t<tr><th scope=row>5</th><td>324950    </td><td>421       </td><td>24        </td><td>5         </td><td> 5.7007126</td><td> 1.1876485</td></tr>\n",
       "\t<tr><th scope=row>14</th><td>841900    </td><td>284       </td><td> 8        </td><td>3         </td><td> 2.8169014</td><td> 1.0563380</td></tr>\n",
       "\t<tr><th scope=row>4</th><td>2940      </td><td>252       </td><td> 9        </td><td>1         </td><td> 3.5714286</td><td> 0.3968254</td></tr>\n",
       "\t<tr><th scope=row>13</th><td>74426     </td><td>217       </td><td>11        </td><td>1         </td><td> 5.0691244</td><td> 0.4608295</td></tr>\n",
       "\t<tr><th scope=row>7</th><td>403849    </td><td>204       </td><td>17        </td><td>6         </td><td> 8.3333333</td><td> 2.9411765</td></tr>\n",
       "\t<tr><th scope=row>10</th><td>571603    </td><td>193       </td><td> 7        </td><td>1         </td><td> 3.6269430</td><td> 0.5181347</td></tr>\n",
       "\t<tr><th scope=row>1</th><td>16153     </td><td>129       </td><td> 3        </td><td>1         </td><td> 2.3255814</td><td> 0.7751938</td></tr>\n",
       "\t<tr><th scope=row>3</th><td>227212    </td><td>102       </td><td> 1        </td><td>1         </td><td> 0.9803922</td><td> 0.9803922</td></tr>\n",
       "\t<tr><th scope=row>12</th><td>666703    </td><td> 89       </td><td> 3        </td><td>1         </td><td> 3.3707865</td><td> 1.1235955</td></tr>\n",
       "\t<tr><th scope=row>2</th><td>166745    </td><td> 46       </td><td> 1        </td><td>1         </td><td> 2.1739130</td><td> 2.1739130</td></tr>\n",
       "\t<tr><th scope=row>6</th><td>376444    </td><td> 25       </td><td> 1        </td><td>1         </td><td> 4.0000000</td><td> 4.0000000</td></tr>\n",
       "\t<tr><th scope=row>11</th><td>658432    </td><td>  7       </td><td> 2        </td><td>1         </td><td>28.5714286</td><td>14.2857143</td></tr>\n",
       "</tbody>\n",
       "</table>\n"
      ],
      "text/latex": [
       "\\begin{tabular}{r|llllll}\n",
       "  & Var1 & freq\\_merchant & freq\\_three & freq\\_five & percentage\\_three & percentage\\_five\\\\\n",
       "\\hline\n",
       "\t8 & 404793     & 693        & 23         & 1          &  3.3189033 &  0.1443001\\\\\n",
       "\t9 & 531400     & 668        & 13         & 1          &  1.9461078 &  0.1497006\\\\\n",
       "\t5 & 324950     & 421        & 24         & 5          &  5.7007126 &  1.1876485\\\\\n",
       "\t14 & 841900     & 284        &  8         & 3          &  2.8169014 &  1.0563380\\\\\n",
       "\t4 & 2940       & 252        &  9         & 1          &  3.5714286 &  0.3968254\\\\\n",
       "\t13 & 74426      & 217        & 11         & 1          &  5.0691244 &  0.4608295\\\\\n",
       "\t7 & 403849     & 204        & 17         & 6          &  8.3333333 &  2.9411765\\\\\n",
       "\t10 & 571603     & 193        &  7         & 1          &  3.6269430 &  0.5181347\\\\\n",
       "\t1 & 16153      & 129        &  3         & 1          &  2.3255814 &  0.7751938\\\\\n",
       "\t3 & 227212     & 102        &  1         & 1          &  0.9803922 &  0.9803922\\\\\n",
       "\t12 & 666703     &  89        &  3         & 1          &  3.3707865 &  1.1235955\\\\\n",
       "\t2 & 166745     &  46        &  1         & 1          &  2.1739130 &  2.1739130\\\\\n",
       "\t6 & 376444     &  25        &  1         & 1          &  4.0000000 &  4.0000000\\\\\n",
       "\t11 & 658432     &   7        &  2         & 1          & 28.5714286 & 14.2857143\\\\\n",
       "\\end{tabular}\n"
      ],
      "text/markdown": [
       "\n",
       "| <!--/--> | Var1 | freq_merchant | freq_three | freq_five | percentage_three | percentage_five |\n",
       "|---|---|---|---|---|---|---|\n",
       "| 8 | 404793     | 693        | 23         | 1          |  3.3189033 |  0.1443001 |\n",
       "| 9 | 531400     | 668        | 13         | 1          |  1.9461078 |  0.1497006 |\n",
       "| 5 | 324950     | 421        | 24         | 5          |  5.7007126 |  1.1876485 |\n",
       "| 14 | 841900     | 284        |  8         | 3          |  2.8169014 |  1.0563380 |\n",
       "| 4 | 2940       | 252        |  9         | 1          |  3.5714286 |  0.3968254 |\n",
       "| 13 | 74426      | 217        | 11         | 1          |  5.0691244 |  0.4608295 |\n",
       "| 7 | 403849     | 204        | 17         | 6          |  8.3333333 |  2.9411765 |\n",
       "| 10 | 571603     | 193        |  7         | 1          |  3.6269430 |  0.5181347 |\n",
       "| 1 | 16153      | 129        |  3         | 1          |  2.3255814 |  0.7751938 |\n",
       "| 3 | 227212     | 102        |  1         | 1          |  0.9803922 |  0.9803922 |\n",
       "| 12 | 666703     |  89        |  3         | 1          |  3.3707865 |  1.1235955 |\n",
       "| 2 | 166745     |  46        |  1         | 1          |  2.1739130 |  2.1739130 |\n",
       "| 6 | 376444     |  25        |  1         | 1          |  4.0000000 |  4.0000000 |\n",
       "| 11 | 658432     |   7        |  2         | 1          | 28.5714286 | 14.2857143 |\n",
       "\n"
      ],
      "text/plain": [
       "   Var1   freq_merchant freq_three freq_five percentage_three percentage_five\n",
       "8  404793 693           23         1          3.3189033        0.1443001     \n",
       "9  531400 668           13         1          1.9461078        0.1497006     \n",
       "5  324950 421           24         5          5.7007126        1.1876485     \n",
       "14 841900 284            8         3          2.8169014        1.0563380     \n",
       "4  2940   252            9         1          3.5714286        0.3968254     \n",
       "13 74426  217           11         1          5.0691244        0.4608295     \n",
       "7  403849 204           17         6          8.3333333        2.9411765     \n",
       "10 571603 193            7         1          3.6269430        0.5181347     \n",
       "1  16153  129            3         1          2.3255814        0.7751938     \n",
       "3  227212 102            1         1          0.9803922        0.9803922     \n",
       "12 666703  89            3         1          3.3707865        1.1235955     \n",
       "2  166745  46            1         1          2.1739130        2.1739130     \n",
       "6  376444  25            1         1          4.0000000        4.0000000     \n",
       "11 658432   7            2         1         28.5714286       14.2857143     "
      ]
     },
     "metadata": {},
     "output_type": "display_data"
    }
   ],
   "source": [
    "# menyimpan frekuensi kemunculan merchant_id (khusus untuk nominal voucher 25000)\n",
    "occur_merchant <- data.frame(table(promo_25k$merchant_id))\n",
    "colnames(occur_merchant)[2] <-\"freq_merchant\"\n",
    "\n",
    "# menyimpan frekuensi pelanggan kembali ke suatu merchant_id sebanyak 3x\n",
    "three_times <-promo_25k[promo_25k$three_trx == 1, ]\n",
    "occur_three <- data.frame(table(three_times$merchant_id))\n",
    "colnames(occur_three)[2] <-\"freq_three\"\n",
    "\n",
    "# menyimpan frekuensi pelanggan kembali ke suatu merchant_id sebanyak 5x\n",
    "five_times <-promo_25k[promo_25k$five_trx == 1, ]\n",
    "occur_five <- data.frame(table(five_times$merchant_id))\n",
    "colnames(occur_five)[2] <-\"freq_five\"\n",
    "\n",
    "# menggabungkan ketiga dataframe sebelumnya berdasarkan merchant_id\n",
    "occurence_freq_25k <- merge(occur_merchant, occur_three, by=\"Var1\")\n",
    "occurence_freq_25k <- merge(occurence_freq_25k, occur_five, by=\"Var1\")\n",
    "\n",
    "# menambahkan kolom persentase kembalinya pelanggan ke suatu merchant\n",
    "occurence_freq_25k$percentage_three <- 100* occurence_freq_25k$freq_three / occurence_freq_25k$freq_merchant\n",
    "occurence_freq_25k$percentage_five <- 100* occurence_freq_25k$freq_five / occurence_freq_25k$freq_merchant\n",
    "occurence_freq_25k$Var1 <- as.factor(occurence_freq_25k$Var1)\n",
    "\n",
    "# sort berdasarkan merchant_id yang paling sering muncul\n",
    "occurence_freq_25k[order(-occurence_freq_25k$freq_merchant),]\n"
   ]
  },
  {
   "cell_type": "code",
   "execution_count": 37,
   "metadata": {},
   "outputs": [
    {
     "name": "stdout",
     "output_type": "stream",
     "text": [
      "rerata 3x on 10k voucher :  4.522683  with standar deviasi  2.977804\n",
      "rerata 3x on 25k voucher :  5.414683  with standar deviasi  6.909341\n",
      "rerata 5x on 10k voucher :  2.209133  with standar deviasi  3.449746\n",
      "rerata 5x on 25k voucher :  2.156697  with standar deviasi  3.662405"
     ]
    }
   ],
   "source": [
    "cat(\"rerata 3x on 10k voucher : \",mean(occurence_freq_10k$percentage_three),\" with standar deviasi \",sd(occurence_freq_10k$percentage_three))\n",
    "cat(\"\\nrerata 3x on 25k voucher : \",mean(occurence_freq_25k$percentage_three),\" with standar deviasi \",sd(occurence_freq_25k$percentage_three))\n",
    "\n",
    "cat(\"\\nrerata 5x on 10k voucher : \",mean(occurence_freq_10k$percentage_five),\" with standar deviasi \",sd(occurence_freq_10k$percentage_five))\n",
    "cat(\"\\nrerata 5x on 25k voucher : \",mean(occurence_freq_25k$percentage_five),\" with standar deviasi \",sd(occurence_freq_25k$percentage_five))"
   ]
  },
  {
   "cell_type": "markdown",
   "metadata": {},
   "source": [
    "<p style=\"color:darkred; line-height: 2\">\n",
    "Dari kedua dataframe diatas, didapatkan informasi tambahan sebagai berikut:\n",
    "    \n",
    "<p style=\"color:darkred; line-height: 2\">6. rerata persentase pelanggan yang menerima voucher 25000 kembali berbelanja ke suatu merchant sebanyak 3x (5.414683%) adalah lebih tinggi daripada rerata persentase pelanggan yang menerima voucher 10000 kembali berbelanja ke suatu merchant sebanyak 3x (4.522683%) dengan selisih sebesar 0.892%\n",
    "<br>7. rerata persentase pelanggan yang menerima voucher 10000 atau 25000 kembali berbelanja sebanyak 5x ke suatu merchant tidak terpaut jauh (2.209133% dengan 2.156697% atau memiliki selisih sebesar 0.052436%)\n",
    "    \n",
    "  "
   ]
  },
  {
   "cell_type": "markdown",
   "metadata": {},
   "source": [
    "<hr>\n",
    "\n",
    "### 1.7  Kesimpulan Analisis\n",
    "<p style=\"color:darkred; line-height: 2\">\n",
    "Beberapa informasi berhasil didapatkan dari tahapan-tahapan sebelumnya antara lain:\n",
    "<br>1. Dataset terdiri dari data sejumlah 8175.\n",
    "<Br>2. Kupon voucher 10000 dibagikan sebanyak 3978 buah dan kupon voucher 25000 dibagikan sebanyak 4197 buah.\n",
    "<br>3. Transaksi kembali sebanyak 3x berjumlah 265 dan dari 265 transaksi tersebut 43 diantaranya bertransaksi sampai dengan 45x.\n",
    "<Br>4. Informasi yang dapat diambil pada data promo_10k:\n",
    "Kupon voucher 10000 dipakai sebanyak 3x dengan frekuensi 119 dari 3978 tiket (2.991%) dan terpakai sebanyak 5x dengan frekuensi 18 dari 3978 tiket (0.452%).\n",
    "<Br>5. Informasi yang dapat diambil pada data promo_25k:\n",
    "Kupon voucher 10000 dipakai sebanyak 3x dengan frekuensi 146 dari 4197 tiket (3.478%) dan terpakai sebanyak 5x dengan frekuensi 25 dari 4197 tiket (0.595%).\n",
    "<Br>6. rerata persentase pelanggan yang menerima voucher 25000 kembali berbelanja ke suatu merchant sebanyak 3x (5.414683%) adalah lebih tinggi daripada rerata persentase pelanggan yang menerima voucher 10000 kembali berbelanja ke suatu merchant sebanyak 3x (4.522683%) dengan selisih sebesar 0.892%\n",
    "<br>7. rerata persentase pelanggan yang menerima voucher 10000 atau 25000 kembali berbelanja ke suatu merchant sebanyak 5x tidak terpaut jauh (2.209133% dan 2.156697% atau memiliki selisih sebesar 0.052436%)    \n",
    "\n",
    "\n",
    "### Ditarik jawaban berdasarkan analisis numerik untuk pertanyaan : \"Apakah Voucher dengan Nilai Lebih Tinggi akan Menarik User untuk Bertransaksi Lebih Banyak?\"\n",
    "<p style=\"color:darkred; line-height: 2\">\n",
    "Dari informasi-informasi diatas, dapat ditarik sebuah kesimpulan berdasarkan poin informasi 4 dan poin informasi 5 bahwa promosi dengan voucher senilai 25000 akan lebih menarik user untuk bertransaksi lebh banyak, dengan fakta data persentase pelanggan kembali sebanyak 3x untuk voucher 25000 adalah 3.478% (0.487% lebih tinggi daripada persentase voucher 10000) dan pelaggan kembali sebanyak 5x untuk voucher 25000 adalah 0.595% (0.143% lebih tinggi daripada persentase voucher 10000).\n",
    "<br><br>    \n",
    "Poin informasi 6 juga memperkuat kesimpulan dari poin informasi 4 dan poin informasi lima, dimana merchant yang menerima transaksi sampai dengan 3x lebih sering ditemui ketika user menggunakan voucher 25000 daripada voucher 10000    \n",
    "<br><br>\n",
    "Maka dari hasil analisis numerik dapat ditarik kesimpulan jawaban :<p style=\"color:red\"><b> Ya, Voucher dengan Nilai Lebih Tinggi akan Menarik User untuk Bertransaksi Lebih Banyak.</b>\n",
    "<br>    \n",
    "*Namun perlu menjadi catatan bahwa informasi dari poin 7 menjelaskan tidak ada jaminan yang kuat bahwa user akan kembali sampai dengan 5x belanja walaupun menerima kupon 10000 ataupun kupon 25000\n",
    "<hr>"
   ]
  },
  {
   "cell_type": "markdown",
   "metadata": {},
   "source": [
    "# 2. Analisis Visual\n",
    "\n",
    "### Analisis Visual yang Dilakukan:\n",
    "#### 2.1 PersentaseTransaksi Nominal Voucher\n",
    "#### 2.2 Visualisasi Barchart Hubungan Variabel merchant_id dengan variabel Banyak Transaksi 3x\n",
    "#### 2.3 Visualisasi Barchart Hubungan Variabel merchant_id dengan variabel Banyak Transaksi 5x\n",
    "<hr>\n",
    "\n",
    "### 2.1 PersentaseTransaksi Nominal Voucher\n",
    "<p style=\"color:darkred; line-height: 2\">Tahapan ini menmvisualisasikan hubungan antara jumlah transaksi dengan kembalinya pelanggan  setelah menggunakan voucher."
   ]
  },
  {
   "cell_type": "code",
   "execution_count": 38,
   "metadata": {},
   "outputs": [
    {
     "name": "stderr",
     "output_type": "stream",
     "text": [
      "Registered S3 methods overwritten by 'ggplot2':\n",
      "  method         from \n",
      "  [.quosures     rlang\n",
      "  c.quosures     rlang\n",
      "  print.quosures rlang\n"
     ]
    }
   ],
   "source": [
    "library(ggplot2)"
   ]
  },
  {
   "cell_type": "code",
   "execution_count": 39,
   "metadata": {},
   "outputs": [
    {
     "data": {
      "image/png": "[encoded data removed]",
      "text/plain": [
       "plot without title"
      ]
     },
     "metadata": {},
     "output_type": "display_data"
    }
   ],
   "source": [
    "# Dataframe transaksi sebanyak 3x untuk voucher 10000\n",
    "freq_10k_three <- data.frame(table(promo_10k$three_trx))\n",
    "freq_10k_three$Type <- as.factor(\"10000: 3x Transaksi\")\n",
    "freq_10k_three$percentage <- 100*freq_10k_three$Freq/sum(freq_10k_three$Freq)\n",
    "\n",
    "# Dataframe transaksi sebanyak 5x untuk voucher 10000\n",
    "freq_10k_five <- data.frame(table(promo_10k$five_trx))\n",
    "freq_10k_five$Type <- as.factor(\"10000: 5x Transaksi\")\n",
    "freq_10k_five$percentage <- 100*freq_10k_five$Freq/sum(freq_10k_five$Freq)\n",
    "\n",
    "# Dataframe transaksi sebanyak 3x untuk voucher 25000\n",
    "freq_25k_three <- data.frame(table(promo_25k$three_trx))\n",
    "freq_25k_three$Type <- as.factor(\"25000: 3x Transaksi\")\n",
    "freq_25k_three$percentage <- 100*freq_25k_three$Freq/sum(freq_25k_three$Freq)\n",
    "\n",
    "# Dataframe transaksi sebanyak 5x untuk voucher 25000\n",
    "freq_25k_five <- data.frame(table(promo_25k$five_trx))\n",
    "freq_25k_five$Type <- as.factor(\"25000: 5x Transaksi\")\n",
    "freq_25k_five$percentage <- 100*freq_25k_five$Freq/sum(freq_25k_five$Freq)\n",
    "\n",
    "# menggabungkan keempat dataframe\n",
    "chart_dataframe <- rbind(freq_10k_three, freq_25k_three)\n",
    "chart_dataframe <- rbind(chart_dataframe, freq_10k_five)\n",
    "chart_dataframe <- rbind(chart_dataframe, freq_25k_five)\n",
    "chart_dataframe$percentage <- substr(chart_dataframe$percentage, start = 1, stop = 5)\n",
    "\n",
    "# Visualisasi dengan barchart\n",
    "options(repr.plot.width=8, repr.plot.height=5)\n",
    "\n",
    "chart<- ggplot(chart_dataframe, aes(x=\"\", y=Freq, fill=Var1, label = percentage))+ geom_bar(width = 1, stat = \"identity\", position=\"dodge\")\n",
    "chart <- chart + ggtitle(\"\\nPersentase Transaksi Nominal Voucher\")\n",
    "chart <- chart + guides(fill=guide_legend(title=\"Bertransaksi sampai dengan 3 atau 5 kali?\"))\n",
    "chart <- chart + ylab(\"Banyak Transaksi\")  + xlab(\"Persentase\")\n",
    "chart <- chart + geom_text(position = position_dodge(0.8))\n",
    "chart <- chart + scale_fill_discrete(name = \"percentage\", labels = c(\"Tidak\", \"Ya\"))\n",
    "chart + facet_wrap(~ Type, ncol=2)"
   ]
  },
  {
   "cell_type": "markdown",
   "metadata": {},
   "source": [
    "<p style=\"color:darkred; line-height: 2\">\n",
    "Informasi yang didapatkan dari bar-chart sama dengan informasi 4 dan informasi 5 pada Analisis Numerik. <br>(4. Informasi yang dapat diambil pada data promo_10k: Kupon voucher 10000 dipakai sebanyak 3x dengan frekuensi 119 dari 3978 tiket (2.991%) dan terpakai sebanyak 5x dengan frekuensi 18 dari 3978 tiket (0.452%).\n",
    "<Br>5. Informasi yang dapat diambil pada data promo_25k: Kupon voucher 10000 dipakai sebanyak 3x dengan frekuensi 146 dari 4197 tiket (3.478%) dan terpakai sebanyak 5x dengan frekuensi 25 dari 4197 tiket (0.595%).)\n",
    "<p style = \"color:red\"><b>Dari plot yang disajikan terlihat bahwa kupon voucher 25000 akan lebih menarik pelanggan untuk kembali berbelanja sebanyak 3x ataupun sampai dengan 5x"
   ]
  },
  {
   "cell_type": "markdown",
   "metadata": {},
   "source": [
    "<hr>\n",
    "\n",
    "### 2.2 Visualisasi Barchart Hubungan Variabel merchant_id dengan variabel Banyak Transaksi 3x\n",
    "<p style=\"color:darkred; line-height: 2\">Data yang digunakan pada tahapan ini adalah data hasil olah kembali dengan langkah yang sama yang diterapkan pada data-data dari tahap Analisis Numerik (1.6 Pengembangan Dataframe preprocessed_data). Untuk tahapan 2.2 dan 2.3 dibentuk data baru yaitu dataframe occurence_freq_all. Dataframe occurence_freq_all tidak digunakan untuk visualisasi, melainkan sebagai informasi tambahan hasil analisis visual."
   ]
  },
  {
   "cell_type": "code",
   "execution_count": 40,
   "metadata": {},
   "outputs": [
    {
     "data": {
      "text/html": [
       "<table>\n",
       "<thead><tr><th></th><th scope=col>Var1</th><th scope=col>freq_merchant</th><th scope=col>freq_three</th><th scope=col>freq_five</th><th scope=col>percentage_three</th><th scope=col>percentage_five</th><th scope=col>rank_merchant</th><th scope=col>rank_percentage_three</th><th scope=col>rank_percentage_five</th></tr></thead>\n",
       "<tbody>\n",
       "\t<tr><th scope=row>14</th><td>658432    </td><td>   7      </td><td> 2        </td><td>1         </td><td>28.571429 </td><td>14.2857143</td><td>18.0      </td><td> 1.0      </td><td> 1.0      </td></tr>\n",
       "\t<tr><th scope=row>9</th><td>403849    </td><td> 213      </td><td>17        </td><td>6         </td><td> 7.981221 </td><td> 2.8169014</td><td>14.0      </td><td> 2.0      </td><td> 3.0      </td></tr>\n",
       "\t<tr><th scope=row>11</th><td>518674    </td><td>  28      </td><td> 2        </td><td>1         </td><td> 7.142857 </td><td> 3.5714286</td><td>17.0      </td><td> 3.0      </td><td> 2.0      </td></tr>\n",
       "\t<tr><th scope=row>17</th><td>817754    </td><td> 278      </td><td>16        </td><td>5         </td><td> 5.755396 </td><td> 1.7985612</td><td>10.0      </td><td> 4.0      </td><td> 4.0      </td></tr>\n",
       "\t<tr><th scope=row>6</th><td>324950    </td><td> 519      </td><td>26        </td><td>5         </td><td> 5.009634 </td><td> 0.9633911</td><td> 4.5      </td><td> 5.0      </td><td> 5.0      </td></tr>\n",
       "\t<tr><th scope=row>16</th><td>74426     </td><td> 265      </td><td>13        </td><td>2         </td><td> 4.905660 </td><td> 0.7547170</td><td>11.0      </td><td> 6.0      </td><td>10.0      </td></tr>\n",
       "\t<tr><th scope=row>13</th><td>571603    </td><td> 235      </td><td> 9        </td><td>2         </td><td> 3.829787 </td><td> 0.8510638</td><td>13.0      </td><td> 7.0      </td><td> 6.0      </td></tr>\n",
       "\t<tr><th scope=row>10</th><td>404793    </td><td>1191      </td><td>45        </td><td>4         </td><td> 3.778338 </td><td> 0.3358522</td><td> 1.0      </td><td> 8.0      </td><td>14.0      </td></tr>\n",
       "\t<tr><th scope=row>1</th><td>16153     </td><td> 162      </td><td> 6        </td><td>1         </td><td> 3.703704 </td><td> 0.6172840</td><td>15.0      </td><td> 9.0      </td><td>11.0      </td></tr>\n",
       "\t<tr><th scope=row>5</th><td>311420    </td><td> 519      </td><td>16        </td><td>2         </td><td> 3.082852 </td><td> 0.3853565</td><td> 4.5      </td><td>10.0      </td><td>13.0      </td></tr>\n",
       "\t<tr><th scope=row>4</th><td>2940      </td><td> 440      </td><td>13        </td><td>1         </td><td> 2.954545 </td><td> 0.2272727</td><td> 6.0      </td><td>11.0      </td><td>17.0      </td></tr>\n",
       "\t<tr><th scope=row>18</th><td>841900    </td><td> 366      </td><td>10        </td><td>3         </td><td> 2.732240 </td><td> 0.8196721</td><td> 9.0      </td><td>12.0      </td><td> 9.0      </td></tr>\n",
       "\t<tr><th scope=row>7</th><td>355706    </td><td> 420      </td><td>11        </td><td>1         </td><td> 2.619048 </td><td> 0.2380952</td><td> 7.0      </td><td>13.0      </td><td>16.0      </td></tr>\n",
       "\t<tr><th scope=row>12</th><td>531400    </td><td> 933      </td><td>20        </td><td>1         </td><td> 2.143623 </td><td> 0.1071811</td><td> 2.0      </td><td>14.0      </td><td>18.0      </td></tr>\n",
       "\t<tr><th scope=row>15</th><td>666703    </td><td> 870      </td><td>17        </td><td>4         </td><td> 1.954023 </td><td> 0.4597701</td><td> 3.0      </td><td>15.0      </td><td>12.0      </td></tr>\n",
       "\t<tr><th scope=row>3</th><td>227212    </td><td> 121      </td><td> 2        </td><td>1         </td><td> 1.652893 </td><td> 0.8264463</td><td>16.0      </td><td>16.5      </td><td> 7.5      </td></tr>\n",
       "\t<tr><th scope=row>8</th><td>376444    </td><td> 242      </td><td> 4        </td><td>2         </td><td> 1.652893 </td><td> 0.8264463</td><td>12.0      </td><td>16.5      </td><td> 7.5      </td></tr>\n",
       "\t<tr><th scope=row>2</th><td>166745    </td><td> 419      </td><td> 5        </td><td>1         </td><td> 1.193317 </td><td> 0.2386635</td><td> 8.0      </td><td>18.0      </td><td>15.0      </td></tr>\n",
       "</tbody>\n",
       "</table>\n"
      ],
      "text/latex": [
       "\\begin{tabular}{r|lllllllll}\n",
       "  & Var1 & freq\\_merchant & freq\\_three & freq\\_five & percentage\\_three & percentage\\_five & rank\\_merchant & rank\\_percentage\\_three & rank\\_percentage\\_five\\\\\n",
       "\\hline\n",
       "\t14 & 658432     &    7       &  2         & 1          & 28.571429  & 14.2857143 & 18.0       &  1.0       &  1.0      \\\\\n",
       "\t9 & 403849     &  213       & 17         & 6          &  7.981221  &  2.8169014 & 14.0       &  2.0       &  3.0      \\\\\n",
       "\t11 & 518674     &   28       &  2         & 1          &  7.142857  &  3.5714286 & 17.0       &  3.0       &  2.0      \\\\\n",
       "\t17 & 817754     &  278       & 16         & 5          &  5.755396  &  1.7985612 & 10.0       &  4.0       &  4.0      \\\\\n",
       "\t6 & 324950     &  519       & 26         & 5          &  5.009634  &  0.9633911 &  4.5       &  5.0       &  5.0      \\\\\n",
       "\t16 & 74426      &  265       & 13         & 2          &  4.905660  &  0.7547170 & 11.0       &  6.0       & 10.0      \\\\\n",
       "\t13 & 571603     &  235       &  9         & 2          &  3.829787  &  0.8510638 & 13.0       &  7.0       &  6.0      \\\\\n",
       "\t10 & 404793     & 1191       & 45         & 4          &  3.778338  &  0.3358522 &  1.0       &  8.0       & 14.0      \\\\\n",
       "\t1 & 16153      &  162       &  6         & 1          &  3.703704  &  0.6172840 & 15.0       &  9.0       & 11.0      \\\\\n",
       "\t5 & 311420     &  519       & 16         & 2          &  3.082852  &  0.3853565 &  4.5       & 10.0       & 13.0      \\\\\n",
       "\t4 & 2940       &  440       & 13         & 1          &  2.954545  &  0.2272727 &  6.0       & 11.0       & 17.0      \\\\\n",
       "\t18 & 841900     &  366       & 10         & 3          &  2.732240  &  0.8196721 &  9.0       & 12.0       &  9.0      \\\\\n",
       "\t7 & 355706     &  420       & 11         & 1          &  2.619048  &  0.2380952 &  7.0       & 13.0       & 16.0      \\\\\n",
       "\t12 & 531400     &  933       & 20         & 1          &  2.143623  &  0.1071811 &  2.0       & 14.0       & 18.0      \\\\\n",
       "\t15 & 666703     &  870       & 17         & 4          &  1.954023  &  0.4597701 &  3.0       & 15.0       & 12.0      \\\\\n",
       "\t3 & 227212     &  121       &  2         & 1          &  1.652893  &  0.8264463 & 16.0       & 16.5       &  7.5      \\\\\n",
       "\t8 & 376444     &  242       &  4         & 2          &  1.652893  &  0.8264463 & 12.0       & 16.5       &  7.5      \\\\\n",
       "\t2 & 166745     &  419       &  5         & 1          &  1.193317  &  0.2386635 &  8.0       & 18.0       & 15.0      \\\\\n",
       "\\end{tabular}\n"
      ],
      "text/markdown": [
       "\n",
       "| <!--/--> | Var1 | freq_merchant | freq_three | freq_five | percentage_three | percentage_five | rank_merchant | rank_percentage_three | rank_percentage_five |\n",
       "|---|---|---|---|---|---|---|---|---|---|\n",
       "| 14 | 658432     |    7       |  2         | 1          | 28.571429  | 14.2857143 | 18.0       |  1.0       |  1.0       |\n",
       "| 9 | 403849     |  213       | 17         | 6          |  7.981221  |  2.8169014 | 14.0       |  2.0       |  3.0       |\n",
       "| 11 | 518674     |   28       |  2         | 1          |  7.142857  |  3.5714286 | 17.0       |  3.0       |  2.0       |\n",
       "| 17 | 817754     |  278       | 16         | 5          |  5.755396  |  1.7985612 | 10.0       |  4.0       |  4.0       |\n",
       "| 6 | 324950     |  519       | 26         | 5          |  5.009634  |  0.9633911 |  4.5       |  5.0       |  5.0       |\n",
       "| 16 | 74426      |  265       | 13         | 2          |  4.905660  |  0.7547170 | 11.0       |  6.0       | 10.0       |\n",
       "| 13 | 571603     |  235       |  9         | 2          |  3.829787  |  0.8510638 | 13.0       |  7.0       |  6.0       |\n",
       "| 10 | 404793     | 1191       | 45         | 4          |  3.778338  |  0.3358522 |  1.0       |  8.0       | 14.0       |\n",
       "| 1 | 16153      |  162       |  6         | 1          |  3.703704  |  0.6172840 | 15.0       |  9.0       | 11.0       |\n",
       "| 5 | 311420     |  519       | 16         | 2          |  3.082852  |  0.3853565 |  4.5       | 10.0       | 13.0       |\n",
       "| 4 | 2940       |  440       | 13         | 1          |  2.954545  |  0.2272727 |  6.0       | 11.0       | 17.0       |\n",
       "| 18 | 841900     |  366       | 10         | 3          |  2.732240  |  0.8196721 |  9.0       | 12.0       |  9.0       |\n",
       "| 7 | 355706     |  420       | 11         | 1          |  2.619048  |  0.2380952 |  7.0       | 13.0       | 16.0       |\n",
       "| 12 | 531400     |  933       | 20         | 1          |  2.143623  |  0.1071811 |  2.0       | 14.0       | 18.0       |\n",
       "| 15 | 666703     |  870       | 17         | 4          |  1.954023  |  0.4597701 |  3.0       | 15.0       | 12.0       |\n",
       "| 3 | 227212     |  121       |  2         | 1          |  1.652893  |  0.8264463 | 16.0       | 16.5       |  7.5       |\n",
       "| 8 | 376444     |  242       |  4         | 2          |  1.652893  |  0.8264463 | 12.0       | 16.5       |  7.5       |\n",
       "| 2 | 166745     |  419       |  5         | 1          |  1.193317  |  0.2386635 |  8.0       | 18.0       | 15.0       |\n",
       "\n"
      ],
      "text/plain": [
       "   Var1   freq_merchant freq_three freq_five percentage_three percentage_five\n",
       "14 658432    7           2         1         28.571429        14.2857143     \n",
       "9  403849  213          17         6          7.981221         2.8169014     \n",
       "11 518674   28           2         1          7.142857         3.5714286     \n",
       "17 817754  278          16         5          5.755396         1.7985612     \n",
       "6  324950  519          26         5          5.009634         0.9633911     \n",
       "16 74426   265          13         2          4.905660         0.7547170     \n",
       "13 571603  235           9         2          3.829787         0.8510638     \n",
       "10 404793 1191          45         4          3.778338         0.3358522     \n",
       "1  16153   162           6         1          3.703704         0.6172840     \n",
       "5  311420  519          16         2          3.082852         0.3853565     \n",
       "4  2940    440          13         1          2.954545         0.2272727     \n",
       "18 841900  366          10         3          2.732240         0.8196721     \n",
       "7  355706  420          11         1          2.619048         0.2380952     \n",
       "12 531400  933          20         1          2.143623         0.1071811     \n",
       "15 666703  870          17         4          1.954023         0.4597701     \n",
       "3  227212  121           2         1          1.652893         0.8264463     \n",
       "8  376444  242           4         2          1.652893         0.8264463     \n",
       "2  166745  419           5         1          1.193317         0.2386635     \n",
       "   rank_merchant rank_percentage_three rank_percentage_five\n",
       "14 18.0           1.0                   1.0                \n",
       "9  14.0           2.0                   3.0                \n",
       "11 17.0           3.0                   2.0                \n",
       "17 10.0           4.0                   4.0                \n",
       "6   4.5           5.0                   5.0                \n",
       "16 11.0           6.0                  10.0                \n",
       "13 13.0           7.0                   6.0                \n",
       "10  1.0           8.0                  14.0                \n",
       "1  15.0           9.0                  11.0                \n",
       "5   4.5          10.0                  13.0                \n",
       "4   6.0          11.0                  17.0                \n",
       "18  9.0          12.0                   9.0                \n",
       "7   7.0          13.0                  16.0                \n",
       "12  2.0          14.0                  18.0                \n",
       "15  3.0          15.0                  12.0                \n",
       "3  16.0          16.5                   7.5                \n",
       "8  12.0          16.5                   7.5                \n",
       "2   8.0          18.0                  15.0                "
      ]
     },
     "metadata": {},
     "output_type": "display_data"
    }
   ],
   "source": [
    "# menyimpan frekuensi kemunculan merchant_id\n",
    "occur_merchant <- data.frame(table(preprocessed_data$merchant_id))\n",
    "colnames(occur_merchant)[2] <-\"freq_merchant\"\n",
    "\n",
    "# menyimpan frekuensi pelanggan kembali ke suatu merchant_id sebanyak 3x\n",
    "three_times <-preprocessed_data[preprocessed_data$three_trx == 1, ]\n",
    "occur_three <- data.frame(table(three_times$merchant_id))\n",
    "colnames(occur_three)[2] <-\"freq_three\"\n",
    "\n",
    "# menyimpan frekuensi pelanggan kembali ke suatu merchant_id sebanyak 5x\n",
    "five_times <-preprocessed_data[preprocessed_data$five_trx == 1, ]\n",
    "occur_five <- data.frame(table(five_times$merchant_id))\n",
    "colnames(occur_five)[2] <-\"freq_five\"\n",
    "\n",
    "# menggabungkan ketiga dataframe sebelumnya berdasarkan merchant_id\n",
    "occurence_freq_all <- merge(occur_merchant, occur_three, by=\"Var1\")\n",
    "occurence_freq_all <- merge(occurence_freq_all, occur_five, by=\"Var1\")\n",
    "\n",
    "# menambahkan kolom persentase kembalinya pelanggan ke suatu merchant\n",
    "occurence_freq_all$percentage_three <- 100* occurence_freq_all$freq_three / occurence_freq_all$freq_merchant\n",
    "occurence_freq_all$percentage_five <- 100* occurence_freq_all$freq_five / occurence_freq_all$freq_merchant\n",
    "occurence_freq_all$Var1 <- as.factor(occurence_freq_all$Var1)\n",
    "\n",
    "# tambahkan variabel ranking merchant (rank_merchant), ranking percentage_three (rank_percentage_three), dan ranking percentage_five (rank_percentage_five)\n",
    "occurence_freq_all$rank_merchant <- rank(-occurence_freq_all$freq_merchant)\n",
    "occurence_freq_all$rank_percentage_three <- rank(-occurence_freq_all$percentage_three)\n",
    "occurence_freq_all$rank_percentage_five <- rank(-occurence_freq_all$percentage_five)\n",
    "\n",
    "# sort berdasarkan merchant_id yang paling sering muncul\n",
    "#occurence_freq_all[order(-occurence_freq_all$freq_merchant),]\n",
    "occurence_freq_all[order(-occurence_freq_all$percentage_three),]\n"
   ]
  },
  {
   "cell_type": "markdown",
   "metadata": {},
   "source": [
    "<p style=\"color:darkred; line-height: 2\">\n",
    "Kolom pada dataframe occurence_freq_all dengan penjelasanya sebagai berikut:\n",
    "<br>-Var1 : Seluruh merchant_id yang terdapat pada dataframe preprocessed_data\n",
    "<Br>-freq_merchant : frekuensi kemunculan merchant_id dataframe preprocessed_data\n",
    "<br>-freq_three : frekuensi kemunculan lebih dari 3x transaksi kembali pada merchant_id tertentu\n",
    "<br>-freq_five : frekuensi kemunculan lebih dari 5x transaksi kembali pada merchant_id tertentu\n",
    "<Br>-percentage_three : persentase kemunculan lebih dari 3x transaksi kembali pada suatu merchant (freq_three/freq_merchant)\n",
    "<br>-percentage_five : persentase kemunculan lebih dari 5x transaksi kembali pada suatu merchant (freq_five/freq_merchant)    \n",
    "<Br>-rank_merchant : peringkat merchant berdasarkan transaksi terbanyak    \n",
    "<Br>-rank_percentage_three : peringkat persentase kemunculan lebih dari 3x transaksi kembali pada suatu merchant (freq_three/freq_merchant)\n",
    "<Br>-rank_percentage_five : peringkat persentase kemunculan lebih dari 5x transaksi kembali pada suatu merchant (freq_five/freq_merchant)  \n",
    " <p style=\"color:darkred; line-height: 2\">   \n",
    "<br> Sebelum divisualisasikan, dataframe occurence_freq_10k dan occurence_freq_25k digabung menjadi dataframe occurence_freq_bind. Langkah ini bertujuan untuk mempermudah operasi visual pada dataframe.    "
   ]
  },
  {
   "cell_type": "code",
   "execution_count": 41,
   "metadata": {},
   "outputs": [
    {
     "data": {
      "text/html": [
       "<table>\n",
       "<thead><tr><th scope=col>Var1</th><th scope=col>freq_merchant</th><th scope=col>freq_three</th><th scope=col>freq_five</th><th scope=col>percentage_three</th><th scope=col>percentage_five</th><th scope=col>coupon_value</th></tr></thead>\n",
       "<tbody>\n",
       "\t<tr><td>311420    </td><td>467       </td><td>15        </td><td>2         </td><td> 3.211991 </td><td> 0.4282655</td><td>10000     </td></tr>\n",
       "\t<tr><td>355706    </td><td>375       </td><td>11        </td><td>1         </td><td> 2.933333 </td><td> 0.2666667</td><td>10000     </td></tr>\n",
       "\t<tr><td>376444    </td><td>217       </td><td> 3        </td><td>1         </td><td> 1.382488 </td><td> 0.4608295</td><td>10000     </td></tr>\n",
       "\t<tr><td>404793    </td><td>498       </td><td>22        </td><td>3         </td><td> 4.417671 </td><td> 0.6024096</td><td>10000     </td></tr>\n",
       "\t<tr><td>518674    </td><td>  9       </td><td> 1        </td><td>1         </td><td>11.111111 </td><td>11.1111111</td><td>10000     </td></tr>\n",
       "\t<tr><td>571603    </td><td> 42       </td><td> 2        </td><td>1         </td><td> 4.761905 </td><td> 2.3809524</td><td>10000     </td></tr>\n",
       "</tbody>\n",
       "</table>\n"
      ],
      "text/latex": [
       "\\begin{tabular}{r|lllllll}\n",
       " Var1 & freq\\_merchant & freq\\_three & freq\\_five & percentage\\_three & percentage\\_five & coupon\\_value\\\\\n",
       "\\hline\n",
       "\t 311420     & 467        & 15         & 2          &  3.211991  &  0.4282655 & 10000     \\\\\n",
       "\t 355706     & 375        & 11         & 1          &  2.933333  &  0.2666667 & 10000     \\\\\n",
       "\t 376444     & 217        &  3         & 1          &  1.382488  &  0.4608295 & 10000     \\\\\n",
       "\t 404793     & 498        & 22         & 3          &  4.417671  &  0.6024096 & 10000     \\\\\n",
       "\t 518674     &   9        &  1         & 1          & 11.111111  & 11.1111111 & 10000     \\\\\n",
       "\t 571603     &  42        &  2         & 1          &  4.761905  &  2.3809524 & 10000     \\\\\n",
       "\\end{tabular}\n"
      ],
      "text/markdown": [
       "\n",
       "| Var1 | freq_merchant | freq_three | freq_five | percentage_three | percentage_five | coupon_value |\n",
       "|---|---|---|---|---|---|---|\n",
       "| 311420     | 467        | 15         | 2          |  3.211991  |  0.4282655 | 10000      |\n",
       "| 355706     | 375        | 11         | 1          |  2.933333  |  0.2666667 | 10000      |\n",
       "| 376444     | 217        |  3         | 1          |  1.382488  |  0.4608295 | 10000      |\n",
       "| 404793     | 498        | 22         | 3          |  4.417671  |  0.6024096 | 10000      |\n",
       "| 518674     |   9        |  1         | 1          | 11.111111  | 11.1111111 | 10000      |\n",
       "| 571603     |  42        |  2         | 1          |  4.761905  |  2.3809524 | 10000      |\n",
       "\n"
      ],
      "text/plain": [
       "  Var1   freq_merchant freq_three freq_five percentage_three percentage_five\n",
       "1 311420 467           15         2          3.211991         0.4282655     \n",
       "2 355706 375           11         1          2.933333         0.2666667     \n",
       "3 376444 217            3         1          1.382488         0.4608295     \n",
       "4 404793 498           22         3          4.417671         0.6024096     \n",
       "5 518674   9            1         1         11.111111        11.1111111     \n",
       "6 571603  42            2         1          4.761905         2.3809524     \n",
       "  coupon_value\n",
       "1 10000       \n",
       "2 10000       \n",
       "3 10000       \n",
       "4 10000       \n",
       "5 10000       \n",
       "6 10000       "
      ]
     },
     "metadata": {},
     "output_type": "display_data"
    }
   ],
   "source": [
    "occurence_freq_10k$coupon_value <- 10000\n",
    "occurence_freq_10k$coupon_value <- as.factor(occurence_freq_10k$coupon_value)\n",
    "occurence_freq_25k$coupon_value <- 25000\n",
    "occurence_freq_25k$coupon_value <- as.factor(occurence_freq_25k$coupon_value)\n",
    "\n",
    "# proses penggabungan dataframe\n",
    "occurence_freq_rbind <- rbind(occurence_freq_10k,occurence_freq_25k)\n",
    "\n",
    "# cuplikan data occurence_freq_bind\n",
    "head(occurence_freq_rbind)"
   ]
  },
  {
   "cell_type": "code",
   "execution_count": 42,
   "metadata": {},
   "outputs": [
    {
     "data": {
      "image/png": "[encoded data removed]",
      "text/plain": [
       "plot without title"
      ]
     },
     "metadata": {},
     "output_type": "display_data"
    }
   ],
   "source": [
    "options(repr.plot.width=15, repr.plot.height=10)\n",
    "\n",
    "gambar <- ggplot(occurence_freq_rbind, aes(x=reorder(Var1, -freq_three, sum), y=freq_three, fill=coupon_value, label = freq_three))\n",
    "gambar <- gambar + geom_bar(width=0.8, stat=\"identity\", position = position_dodge(width=0.8))\n",
    "gambar <- gambar + ggtitle(\"\\nHubungan Variabel merchant_id dengan variabel Banyak Transaksi 3x\")\n",
    "gambar <- gambar + geom_text(position = position_dodge(0.8))\n",
    "gambar <- gambar + xlab(\"\\nmerchant_id\")  + ylab(\"Banyak Transaksi 3x\")\n",
    "gambar <- gambar + theme(text = element_text(size=15))\n",
    "gambar # + facet_wrap(~ coupon_value, ncol=1)"
   ]
  },
  {
   "cell_type": "markdown",
   "metadata": {},
   "source": [
    "<p style=\"color:darkred; line-height: 2\">Data diatas di urutkan berdasarkan kemunculan transaksi sampai dengan 3x untuk setiap merchant id. <p style = \"color : red\">\n",
    "<p style=\"color:darkred; line-height: 2\">Berikut informasi dari visualisasi di atas.\n",
    "<br>1. merchant_id 817753, 311420, dan 355706 terisi hanya oleh transaksi dengan kupon 10000. Perkiraan sementara adalah pada merchant-merchant tersebut dijual barang-barang yang berharga kurang dari 25000 sehingga penggunaan kupon 10000 lebih menjadi pilihan pada merchant-merchant tersebut.\n",
    "<Br>2. merchant_id 324950, 403849, 531400, 2940, dan 841900 terisi hanya oleh transaksi dengan kupon 25000. Perkiraan sementara adalah pada merchant-merchant tersebut dijual barang-barang yang berharga lebih dari 25000 sehingga penggunaan kupon 25000 lebih menjadi pilihan pada merchant-merchant tersebut.\n",
    "<br>3. merchant 404793,666703, 74426, dan 571603 terisi oleh transaksi dengan kedua kupon. Perkiraan sementara adalah merchant-merchant tersebut menjual barang-barang dengan harga yang lebih beragam daripada merchant-merchant pada informasi 1 dan 2.\n",
    "<br>4. merchant dengan transaksi 3x kurang dari 5 dianggap tidak memiliki informasi.    \n",
    "    \n",
    "<p style=\"color:red; line-height: 2\">    <b> Dari informasi-informasi tersebut, didapatkan hasil analisis baru yaitu kupon 10000 dan 25000 sebenarnya menguntungkan pada merchant-merchant dengan segmen tertentu (informasi 1 dan 2), sehingga tidak bisa dinilai bahwa kupon 10000 lebih baik atau kupon 25000 lebih baik. Alangkah baiknya pembagian kupon dilakukan spesifik sesuai dengan kecondongan user untuk menggunakan nominal kupon apa pada merchant tertentu."
   ]
  },
  {
   "cell_type": "markdown",
   "metadata": {},
   "source": [
    "<p style=\"color:darkred; line-height: 2\"><Br>Berikut adalah contoh hasil visualisasi dapat digunakan untuk melihat apakah bisa dipilih beberapa merchant tertentu saja yang memiliki keuntungan bagi organisasi jika diberi kupon potongan spesifik pada suatu merchant.</b>\n"
   ]
  },
  {
   "cell_type": "code",
   "execution_count": 43,
   "metadata": {},
   "outputs": [
    {
     "data": {
      "text/html": [
       "<table>\n",
       "<thead><tr><th></th><th scope=col>Var1</th><th scope=col>freq_merchant</th><th scope=col>freq_three</th><th scope=col>freq_five</th><th scope=col>percentage_three</th><th scope=col>percentage_five</th><th scope=col>rank_merchant</th><th scope=col>rank_percentage_three</th><th scope=col>rank_percentage_five</th></tr></thead>\n",
       "<tbody>\n",
       "\t<tr><th scope=row>10</th><td>404793   </td><td>1191     </td><td>45       </td><td>4        </td><td>3.778338 </td><td>0.3358522</td><td>1        </td><td>8        </td><td>14       </td></tr>\n",
       "</tbody>\n",
       "</table>\n"
      ],
      "text/latex": [
       "\\begin{tabular}{r|lllllllll}\n",
       "  & Var1 & freq\\_merchant & freq\\_three & freq\\_five & percentage\\_three & percentage\\_five & rank\\_merchant & rank\\_percentage\\_three & rank\\_percentage\\_five\\\\\n",
       "\\hline\n",
       "\t10 & 404793    & 1191      & 45        & 4         & 3.778338  & 0.3358522 & 1         & 8         & 14       \\\\\n",
       "\\end{tabular}\n"
      ],
      "text/markdown": [
       "\n",
       "| <!--/--> | Var1 | freq_merchant | freq_three | freq_five | percentage_three | percentage_five | rank_merchant | rank_percentage_three | rank_percentage_five |\n",
       "|---|---|---|---|---|---|---|---|---|---|\n",
       "| 10 | 404793    | 1191      | 45        | 4         | 3.778338  | 0.3358522 | 1         | 8         | 14        |\n",
       "\n"
      ],
      "text/plain": [
       "   Var1   freq_merchant freq_three freq_five percentage_three percentage_five\n",
       "10 404793 1191          45         4         3.778338         0.3358522      \n",
       "   rank_merchant rank_percentage_three rank_percentage_five\n",
       "10 1             8                     14                  "
      ]
     },
     "metadata": {},
     "output_type": "display_data"
    },
    {
     "data": {
      "text/html": [
       "<table>\n",
       "<thead><tr><th></th><th scope=col>Var1</th><th scope=col>freq_merchant</th><th scope=col>freq_three</th><th scope=col>freq_five</th><th scope=col>percentage_three</th><th scope=col>percentage_five</th><th scope=col>coupon_value</th></tr></thead>\n",
       "<tbody>\n",
       "\t<tr><th scope=row>4</th><td>404793   </td><td>498      </td><td>22       </td><td>3        </td><td>4.417671 </td><td>0.6024096</td><td>10000    </td></tr>\n",
       "</tbody>\n",
       "</table>\n"
      ],
      "text/latex": [
       "\\begin{tabular}{r|lllllll}\n",
       "  & Var1 & freq\\_merchant & freq\\_three & freq\\_five & percentage\\_three & percentage\\_five & coupon\\_value\\\\\n",
       "\\hline\n",
       "\t4 & 404793    & 498       & 22        & 3         & 4.417671  & 0.6024096 & 10000    \\\\\n",
       "\\end{tabular}\n"
      ],
      "text/markdown": [
       "\n",
       "| <!--/--> | Var1 | freq_merchant | freq_three | freq_five | percentage_three | percentage_five | coupon_value |\n",
       "|---|---|---|---|---|---|---|---|\n",
       "| 4 | 404793    | 498       | 22        | 3         | 4.417671  | 0.6024096 | 10000     |\n",
       "\n"
      ],
      "text/plain": [
       "  Var1   freq_merchant freq_three freq_five percentage_three percentage_five\n",
       "4 404793 498           22         3         4.417671         0.6024096      \n",
       "  coupon_value\n",
       "4 10000       "
      ]
     },
     "metadata": {},
     "output_type": "display_data"
    },
    {
     "name": "stdout",
     "output_type": "stream",
     "text": [
      "Mean kembali 3x untuk semua merchant (10000):  4.522683"
     ]
    },
    {
     "data": {
      "text/html": [
       "<table>\n",
       "<thead><tr><th></th><th scope=col>Var1</th><th scope=col>freq_merchant</th><th scope=col>freq_three</th><th scope=col>freq_five</th><th scope=col>percentage_three</th><th scope=col>percentage_five</th><th scope=col>coupon_value</th></tr></thead>\n",
       "<tbody>\n",
       "\t<tr><th scope=row>8</th><td>404793   </td><td>693      </td><td>23       </td><td>1        </td><td>3.318903 </td><td>0.1443001</td><td>25000    </td></tr>\n",
       "</tbody>\n",
       "</table>\n"
      ],
      "text/latex": [
       "\\begin{tabular}{r|lllllll}\n",
       "  & Var1 & freq\\_merchant & freq\\_three & freq\\_five & percentage\\_three & percentage\\_five & coupon\\_value\\\\\n",
       "\\hline\n",
       "\t8 & 404793    & 693       & 23        & 1         & 3.318903  & 0.1443001 & 25000    \\\\\n",
       "\\end{tabular}\n"
      ],
      "text/markdown": [
       "\n",
       "| <!--/--> | Var1 | freq_merchant | freq_three | freq_five | percentage_three | percentage_five | coupon_value |\n",
       "|---|---|---|---|---|---|---|---|\n",
       "| 8 | 404793    | 693       | 23        | 1         | 3.318903  | 0.1443001 | 25000     |\n",
       "\n"
      ],
      "text/plain": [
       "  Var1   freq_merchant freq_three freq_five percentage_three percentage_five\n",
       "8 404793 693           23         1         3.318903         0.1443001      \n",
       "  coupon_value\n",
       "8 25000       "
      ]
     },
     "metadata": {},
     "output_type": "display_data"
    },
    {
     "name": "stdout",
     "output_type": "stream",
     "text": [
      "Mean kembali 3x untuk semua merchant (25000):  5.414683"
     ]
    }
   ],
   "source": [
    "occurence_freq_all[occurence_freq_all$Var1 == 404793,]\n",
    "\n",
    "occurence_freq_10k[occurence_freq_10k$Var1 == 404793,]\n",
    "cat(\"Mean kembali 3x untuk semua merchant (10000): \", mean(occurence_freq_10k$percentage_three))\n",
    "\n",
    "occurence_freq_25k[occurence_freq_25k$Var1 == 404793,]\n",
    "cat(\"Mean kembali 3x untuk semua merchant (25000): \", mean(occurence_freq_25k$percentage_three))\n",
    "\n"
   ]
  },
  {
   "cell_type": "markdown",
   "metadata": {},
   "source": [
    "<p style=\"color:darkred; line-height: 2\">\n",
    "<b>merchant_id 404793</b> : \n",
    "<br>-Merchant ini merupakan merchant yang memiliki transaksi terbanyak yaitu sejumlah 1191x kemunculan. \n",
    "<br>-Terlihat 22 user bertransaksi sampai dengan 3x menggunakan kupon 10000 dan 23 user bertransaksi menggunakan kupon 25000 sampai dengan 3x\n",
    "<br>-Persentase user kembali dengan kupon 25000 lebih rendah daripada persentase user kembali dengan kupon 10000 (4.417671% untuk 10000 dengan 3.318903% untuk 25000)\n",
    "    \n",
    "<p style=\"color:darkred; line-height: 2\"><b>Analisis</b>:  Merchant perlu dipertimbangkan untuk diberikan kupon potongan 10000  atau 25000 (lebih dipreferensikan 10000) spesifik merchant dengan alasan : \n",
    "<br>Jumlah transaksi yang banyak mengindikasikan merchant memiliki produk yang menarik atau memiliki segmen pasar yang luas sehingga memungkinkan banyak user baru untuk membeli pada merchant ini. Promo spesifik pada merchant ini dapat membuat user baru ataupun user lamayang awalnya ragu-ragu untuk berbelanja menjadi tertarik untuk berbelanja karena potongan yang diberikan. User base yang besar memungkinkan persebaran informasi mouth-to-mouth yang lebih banyak juga sehingga berpotensi mengundang user-user baru\n"
   ]
  },
  {
   "cell_type": "code",
   "execution_count": 44,
   "metadata": {},
   "outputs": [
    {
     "data": {
      "text/html": [
       "<table>\n",
       "<thead><tr><th></th><th scope=col>Var1</th><th scope=col>freq_merchant</th><th scope=col>freq_three</th><th scope=col>freq_five</th><th scope=col>percentage_three</th><th scope=col>percentage_five</th><th scope=col>rank_merchant</th><th scope=col>rank_percentage_three</th><th scope=col>rank_percentage_five</th></tr></thead>\n",
       "<tbody>\n",
       "\t<tr><th scope=row>6</th><td>324950   </td><td>519      </td><td>26       </td><td>5        </td><td>5.009634 </td><td>0.9633911</td><td>4.5      </td><td>5        </td><td>5        </td></tr>\n",
       "</tbody>\n",
       "</table>\n"
      ],
      "text/latex": [
       "\\begin{tabular}{r|lllllllll}\n",
       "  & Var1 & freq\\_merchant & freq\\_three & freq\\_five & percentage\\_three & percentage\\_five & rank\\_merchant & rank\\_percentage\\_three & rank\\_percentage\\_five\\\\\n",
       "\\hline\n",
       "\t6 & 324950    & 519       & 26        & 5         & 5.009634  & 0.9633911 & 4.5       & 5         & 5        \\\\\n",
       "\\end{tabular}\n"
      ],
      "text/markdown": [
       "\n",
       "| <!--/--> | Var1 | freq_merchant | freq_three | freq_five | percentage_three | percentage_five | rank_merchant | rank_percentage_three | rank_percentage_five |\n",
       "|---|---|---|---|---|---|---|---|---|---|\n",
       "| 6 | 324950    | 519       | 26        | 5         | 5.009634  | 0.9633911 | 4.5       | 5         | 5         |\n",
       "\n"
      ],
      "text/plain": [
       "  Var1   freq_merchant freq_three freq_five percentage_three percentage_five\n",
       "6 324950 519           26         5         5.009634         0.9633911      \n",
       "  rank_merchant rank_percentage_three rank_percentage_five\n",
       "6 4.5           5                     5                   "
      ]
     },
     "metadata": {},
     "output_type": "display_data"
    },
    {
     "data": {
      "text/html": [
       "<table>\n",
       "<thead><tr><th scope=col>Var1</th><th scope=col>freq_merchant</th><th scope=col>freq_three</th><th scope=col>freq_five</th><th scope=col>percentage_three</th><th scope=col>percentage_five</th><th scope=col>coupon_value</th></tr></thead>\n",
       "<tbody>\n",
       "</tbody>\n",
       "</table>\n"
      ],
      "text/latex": [
       "\\begin{tabular}{r|lllllll}\n",
       " Var1 & freq\\_merchant & freq\\_three & freq\\_five & percentage\\_three & percentage\\_five & coupon\\_value\\\\\n",
       "\\hline\n",
       "\\end{tabular}\n"
      ],
      "text/markdown": [
       "\n",
       "| Var1 | freq_merchant | freq_three | freq_five | percentage_three | percentage_five | coupon_value |\n",
       "|---|---|---|---|---|---|---|\n",
       "\n"
      ],
      "text/plain": [
       "     Var1 freq_merchant freq_three freq_five percentage_three percentage_five\n",
       "     coupon_value"
      ]
     },
     "metadata": {},
     "output_type": "display_data"
    },
    {
     "name": "stdout",
     "output_type": "stream",
     "text": [
      "Mean kembali 3x untuk semua merchant (10000):  4.522683"
     ]
    },
    {
     "data": {
      "text/html": [
       "<table>\n",
       "<thead><tr><th></th><th scope=col>Var1</th><th scope=col>freq_merchant</th><th scope=col>freq_three</th><th scope=col>freq_five</th><th scope=col>percentage_three</th><th scope=col>percentage_five</th><th scope=col>coupon_value</th></tr></thead>\n",
       "<tbody>\n",
       "\t<tr><th scope=row>5</th><td>324950  </td><td>421     </td><td>24      </td><td>5       </td><td>5.700713</td><td>1.187648</td><td>25000   </td></tr>\n",
       "</tbody>\n",
       "</table>\n"
      ],
      "text/latex": [
       "\\begin{tabular}{r|lllllll}\n",
       "  & Var1 & freq\\_merchant & freq\\_three & freq\\_five & percentage\\_three & percentage\\_five & coupon\\_value\\\\\n",
       "\\hline\n",
       "\t5 & 324950   & 421      & 24       & 5        & 5.700713 & 1.187648 & 25000   \\\\\n",
       "\\end{tabular}\n"
      ],
      "text/markdown": [
       "\n",
       "| <!--/--> | Var1 | freq_merchant | freq_three | freq_five | percentage_three | percentage_five | coupon_value |\n",
       "|---|---|---|---|---|---|---|---|\n",
       "| 5 | 324950   | 421      | 24       | 5        | 5.700713 | 1.187648 | 25000    |\n",
       "\n"
      ],
      "text/plain": [
       "  Var1   freq_merchant freq_three freq_five percentage_three percentage_five\n",
       "5 324950 421           24         5         5.700713         1.187648       \n",
       "  coupon_value\n",
       "5 25000       "
      ]
     },
     "metadata": {},
     "output_type": "display_data"
    },
    {
     "name": "stdout",
     "output_type": "stream",
     "text": [
      "Mean kembali 3x untuk semua merchant (25000):  5.414683"
     ]
    }
   ],
   "source": [
    "occurence_freq_all[occurence_freq_all$Var1 == 324950,]\n",
    "\n",
    "occurence_freq_10k[occurence_freq_10k$Var1 == 324950,]\n",
    "cat(\"Mean kembali 3x untuk semua merchant (10000): \", mean(occurence_freq_10k$percentage_three))\n",
    "\n",
    "occurence_freq_25k[occurence_freq_25k$Var1 == 324950,]\n",
    "cat(\"Mean kembali 3x untuk semua merchant (25000): \", mean(occurence_freq_25k$percentage_three))"
   ]
  },
  {
   "cell_type": "markdown",
   "metadata": {},
   "source": [
    "<p style=\"color:darkred; line-height: 2\">\n",
    "<b>merchant_id 324950</b> : \n",
    "<br>-Merchant ini merupakan merchant yang memiliki transaksi terbanyak yaitu sejumlah 519x kemunculan. \n",
    "<br>-Terlihat seluruh transaksi menggunakan kupon 25000, mengindikasikan harga pada toko diatas 25000 sehingga user lebih memilih menggunakan kupon 25000 pada merchant ini\n",
    "<br>-Rata-rata kembalinya user sebanyak 3x pada merchant ini lebih tinggi daripada rata-rata kembalinya user sebanyak 3x pada seluruh merchant (5.700713% pada merchant ini dan 5.414683% pada merchant keseluruhan)    \n",
    "    \n",
    "<p style=\"color:darkred; line-height: 2\"><b>Analisis</b>:  Merchant perlu dipertimbangkan untuk diberikan kupon potongan 25000 spesifik merchant dengan alasan : \n",
    "<br>Jumlah transaksi yang banyak mengindikasikan merchant memiliki produk yang menarik atau memiliki segmen pasar yang luas sehingga memungkinkan banyak user baru untuk membeli pada merchant ini. Potogan 25000 dinilai lebih tepat jika digunakan pada merchant ini karena persentase kembalinya user sampai dengan 3x berbelanja pada merchant ini lebih tinggi daripada persentase kembalinya user sampai dengan 3x berbelanja keseluruhan\n"
   ]
  },
  {
   "cell_type": "markdown",
   "metadata": {},
   "source": [
    "<hr>\n",
    "\n",
    "### 2.3 Visualisasi Barchart Hubungan Variabel merchant_id dengan variabel Banyak Transaksi 5x\n",
    "<p style=\"color:darkred; line-height: 2\">Data yang digunakan pada tahapan ini adalah data hasil olah kembali data-data dari tahap Analisis Numerik (1.6 Pengembangan Dataframe preprocessed_data). Dilakukan visualisasi hubungan variabel merhcant_id dengan varibel banyak transaksi 5x."
   ]
  },
  {
   "cell_type": "code",
   "execution_count": 45,
   "metadata": {},
   "outputs": [
    {
     "data": {
      "image/png": "[encoded data removed]",
      "text/plain": [
       "plot without title"
      ]
     },
     "metadata": {},
     "output_type": "display_data"
    }
   ],
   "source": [
    "options(repr.plot.width=15, repr.plot.height=10)\n",
    "\n",
    "gambar <- ggplot(occurence_freq_rbind, aes(x=reorder(Var1, -freq_five, sum), y=freq_five, fill=coupon_value, label = freq_five))\n",
    "gambar <- gambar + geom_bar(width=0.8, stat=\"identity\", position = position_dodge(width=0.8))\n",
    "gambar <- gambar + ggtitle(\"\\nHubungan Variabel merchant_id dengan variabel Banyak Transaksi 5x\")\n",
    "gambar <- gambar + geom_text(position = position_dodge(0.8))\n",
    "gambar <- gambar + xlab(\"\\nmerchant_id\")  + ylab(\"Banyak Transaksi 5x\")\n",
    "gambar <- gambar + theme(text = element_text(size=15))\n",
    "gambar # + facet_wrap(~ coupon_value, ncol=1)"
   ]
  },
  {
   "cell_type": "markdown",
   "metadata": {},
   "source": [
    "<p style=\"color:darkred; line-height: 2\">Data diatas di urutkan berdasarkan kemunculan transaksi sampai dengan 3x untuk setiap merchant id. <p style = \"color : red\">\n",
    "<p style=\"color:darkred; line-height: 2\"> Berikut beberapa informasi yang dapat diraih dari hasil visualisasi diatas:\n",
    "    <br>1. Data dengan transaksi diatas 3 untuk tiap merchant diperkirakan karena merchant menjual barang-barang yang cepat habis / daily use atau memang memiliki user yang berlangganan pada toko tersebut\n",
    "    <Br>2. Data banyak transaksi 1,2,3 untuk tiap merchant diperkirakan karena merchant menjual barang-barang yang tidak cepat habis / daily use.\n",
    "        \n",
    "<p style=\"color:red; line-height: 2\">    <b> Dari informasi-informasi tersebut dapat dibuat beberapa strategi yaitu pada merchant-merchant yang menjual produk-produk daily use / cepat habis atau memiliki langganan, dapat dibuat promo khusus pada tipe produk daily use / cepat habis yang dijual sehingga user akan semakin tertarik untuk berbelanja pada merchant tersebut. Kembali sesuai analisis pada tahapan 2.2, pemberian voucher 10000 atau 25000 dapat disesuaikan dengan segmen pembeli sering memakai voucher yang mana pada merchant tersebut.      "
   ]
  },
  {
   "cell_type": "markdown",
   "metadata": {},
   "source": [
    "## Kesimpulan Akhir Analisis Numerik dan Analisis Visual\n",
    "<p style=\"color:darkred; line-height: 2;\">    <b> Kesimpulan akhir dari data pilot testing promo ini adalah voucher senilai 25000 secara angka (analisis numerik) menunjukan bahwa lebih baik dalam membuat user kembali berbelanja ketimbang voucher 10000. Namun dari analisis visual didapatkan fakta-fakta baru bahwa terdapat merchant-merchant tertentu yang usernya spesifik menggunakan voucher 10000 atau 25000. Oleh karena itu ditarik kesimpulan bahwa merchant juga mempengaruhi penggunaan tipe voucher sehingga direkomendasikan untuk menggunakan voucher spesifik pada merchant tertentu (seperti misalnya pada startup jual beli indonesia ada voucher senilai X yang hanya bisa digunakan pada toko Y)."
   ]
  },
  {
   "cell_type": "code",
   "execution_count": null,
   "metadata": {},
   "outputs": [],
   "source": []
  }
 ],
 "metadata": {
  "kernelspec": {
   "display_name": "R",
   "language": "R",
   "name": "ir"
  },
  "language_info": {
   "codemirror_mode": "r",
   "file_extension": ".r",
   "mimetype": "text/x-r-source",
   "name": "R",
   "pygments_lexer": "r",
   "version": "3.6.1"
  }
 },
 "nbformat": 4,
 "nbformat_minor": 2
}
